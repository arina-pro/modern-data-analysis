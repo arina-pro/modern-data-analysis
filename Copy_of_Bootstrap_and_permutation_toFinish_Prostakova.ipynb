{
  "nbformat": 4,
  "nbformat_minor": 0,
  "metadata": {
    "colab": {
      "name": "Copy of Bootstrap and permutation_toFinish_Prostakova.ipynb",
      "provenance": [],
      "collapsed_sections": []
    },
    "kernelspec": {
      "name": "python3",
      "display_name": "Python 3"
    }
  },
  "cells": [
    {
      "cell_type": "markdown",
      "metadata": {
        "id": "pqHdtd_qfB1n",
        "colab_type": "text"
      },
      "source": [
        "# Непараметрическое тестирование гипотез\n",
        "Весь этот блок взять из DataCamp Statistical Thinking in Python : даже если вы его уже проходили, это почти ничего не значит) Пройдите еще разок"
      ]
    },
    {
      "cell_type": "markdown",
      "metadata": {
        "id": "JrSBQxrTfjCL",
        "colab_type": "text"
      },
      "source": [
        "## Бутстрэппинг (bootstrapping) или голь на выдумки хитра. Как сделать много даных когда данных мало?"
      ]
    },
    {
      "cell_type": "code",
      "metadata": {
        "id": "2xve8ecefeva",
        "colab_type": "code",
        "colab": {}
      },
      "source": [
        "import matplotlib.pyplot as plt\n",
        "import numpy as np\n",
        "%matplotlib inline\n",
        "plt.rcParams[\"figure.figsize\"] = (4,3)\n",
        "#пакет для красивой статистики\n",
        "import seaborn as sns\n",
        "import pandas as pd\n",
        "import io\n",
        "import requests"
      ],
      "execution_count": 0,
      "outputs": []
    },
    {
      "cell_type": "code",
      "metadata": {
        "id": "to0kXkkHfrQb",
        "colab_type": "code",
        "outputId": "2d13351b-bf6a-49e7-bc50-470526407995",
        "colab": {
          "base_uri": "https://localhost:8080/",
          "height": 202
        }
      },
      "source": [
        "df_weather = pd.read_csv(\"https://github.com/AmoDinho/datacamp-python-data-science-track/raw/master/Statistical%20Thinking%20in%20Python%20(Part%202)/Datasets/sheffield_weather_station.csv\",delim_whitespace=True, skiprows=8)\n",
        "df_weather.head()"
      ],
      "execution_count": 0,
      "outputs": [
        {
          "output_type": "execute_result",
          "data": {
            "text/html": [
              "<div>\n",
              "<style scoped>\n",
              "    .dataframe tbody tr th:only-of-type {\n",
              "        vertical-align: middle;\n",
              "    }\n",
              "\n",
              "    .dataframe tbody tr th {\n",
              "        vertical-align: top;\n",
              "    }\n",
              "\n",
              "    .dataframe thead th {\n",
              "        text-align: right;\n",
              "    }\n",
              "</style>\n",
              "<table border=\"1\" class=\"dataframe\">\n",
              "  <thead>\n",
              "    <tr style=\"text-align: right;\">\n",
              "      <th></th>\n",
              "      <th>yyyy</th>\n",
              "      <th>mm</th>\n",
              "      <th>tmax</th>\n",
              "      <th>tmin</th>\n",
              "      <th>af</th>\n",
              "      <th>rain</th>\n",
              "      <th>sun</th>\n",
              "    </tr>\n",
              "  </thead>\n",
              "  <tbody>\n",
              "    <tr>\n",
              "      <th>0</th>\n",
              "      <td>1883</td>\n",
              "      <td>1</td>\n",
              "      <td>6.3</td>\n",
              "      <td>1.7</td>\n",
              "      <td>6</td>\n",
              "      <td>122.1</td>\n",
              "      <td>---</td>\n",
              "    </tr>\n",
              "    <tr>\n",
              "      <th>1</th>\n",
              "      <td>1883</td>\n",
              "      <td>2</td>\n",
              "      <td>8.0</td>\n",
              "      <td>2.8</td>\n",
              "      <td>2</td>\n",
              "      <td>69.8</td>\n",
              "      <td>---</td>\n",
              "    </tr>\n",
              "    <tr>\n",
              "      <th>2</th>\n",
              "      <td>1883</td>\n",
              "      <td>3</td>\n",
              "      <td>4.8</td>\n",
              "      <td>-1.6</td>\n",
              "      <td>23</td>\n",
              "      <td>29.6</td>\n",
              "      <td>---</td>\n",
              "    </tr>\n",
              "    <tr>\n",
              "      <th>3</th>\n",
              "      <td>1883</td>\n",
              "      <td>4</td>\n",
              "      <td>12.2</td>\n",
              "      <td>3.8</td>\n",
              "      <td>2</td>\n",
              "      <td>74.0</td>\n",
              "      <td>---</td>\n",
              "    </tr>\n",
              "    <tr>\n",
              "      <th>4</th>\n",
              "      <td>1883</td>\n",
              "      <td>5</td>\n",
              "      <td>14.7</td>\n",
              "      <td>6.2</td>\n",
              "      <td>0</td>\n",
              "      <td>31.2</td>\n",
              "      <td>---</td>\n",
              "    </tr>\n",
              "  </tbody>\n",
              "</table>\n",
              "</div>"
            ],
            "text/plain": [
              "   yyyy  mm  tmax  tmin  af   rain  sun\n",
              "0  1883   1   6.3   1.7   6  122.1  ---\n",
              "1  1883   2   8.0   2.8   2   69.8  ---\n",
              "2  1883   3   4.8  -1.6  23   29.6  ---\n",
              "3  1883   4  12.2   3.8   2   74.0  ---\n",
              "4  1883   5  14.7   6.2   0   31.2  ---"
            ]
          },
          "metadata": {
            "tags": []
          },
          "execution_count": 2
        }
      ]
    },
    {
      "cell_type": "code",
      "metadata": {
        "id": "ZGb_bETjf-3h",
        "colab_type": "code",
        "colab": {}
      },
      "source": [
        "#Функция для кумулятивной плотности\n",
        "def ecdf(data):\n",
        "    \"\"\"Compute ECDF for a one-dimensional array of measurements.\"\"\"\n",
        "\n",
        "    # Размер массива\n",
        "    n=len(data) \n",
        "    # Отсортируем все точки в массиве\n",
        "    x=np.sort(data)\n",
        "\n",
        "    # y это просто доля точек в интервале от 1 до n\n",
        "    y = np.arange(1, n+1) / n\n",
        "\n",
        "    return x, y"
      ],
      "execution_count": 0,
      "outputs": []
    },
    {
      "cell_type": "code",
      "metadata": {
        "id": "SuH2rKzaiGrD",
        "colab_type": "code",
        "outputId": "879b8626-1213-4a56-e377-5655319c8cdf",
        "colab": {
          "base_uri": "https://localhost:8080/",
          "height": 226
        }
      },
      "source": [
        "rainfall = df_weather['rain'].values\n",
        "for i in range(50):\n",
        "    # Generate bootstrap sample: bs_sample\n",
        "    bs_sample = np.random.choice(rainfall, size=len(rainfall))\n",
        "\n",
        "    # Compute and plot ECDF from bootstrap sample\n",
        "    x, y = ecdf(bs_sample)\n",
        "    _ = plt.plot(x, y, marker='.', linestyle='none',\n",
        "                 color='gray', alpha=0.1)\n",
        "\n",
        "# Compute and plot ECDF from original data\n",
        "x, y = ecdf(rainfall)\n",
        "_ = plt.plot(x, y,  linestyle='-', color = 'red')\n",
        "\n",
        "# Make margins and label axes\n",
        "plt.margins(0.02)\n",
        "_ = plt.xlabel('yearly rainfall (mm)')\n",
        "_ = plt.ylabel('ECDF')"
      ],
      "execution_count": 0,
      "outputs": [
        {
          "output_type": "display_data",
          "data": {
            "image/png": "[encoded data removed]",
            "text/plain": [
              "<Figure size 288x216 with 1 Axes>"
            ]
          },
          "metadata": {
            "tags": []
          }
        }
      ]
    },
    {
      "cell_type": "code",
      "metadata": {
        "id": "xR2OUO6miHZa",
        "colab_type": "code",
        "colab": {}
      },
      "source": [
        "def bootstrap_replicate_1d(data, func):\n",
        "    return func(np.random.choice(data, size=len(data)))\n",
        "\n",
        "def draw_bs_reps(data, func, size=1):\n",
        "    \"\"\"Draw bootstrap replicates.\"\"\"\n",
        "\n",
        "    # Initialize array of replicates: bs_replicates\n",
        "    bs_replicates = np.empty(size)\n",
        "\n",
        "    # Generate replicates\n",
        "    for i in range(size):\n",
        "        bs_replicates[i] = bootstrap_replicate_1d(data, func)\n",
        "\n",
        "    return bs_replicates"
      ],
      "execution_count": 0,
      "outputs": []
    },
    {
      "cell_type": "markdown",
      "metadata": {
        "id": "TP73TRBeNMfi",
        "colab_type": "text"
      },
      "source": [
        "## Построим теперь всяких доверительных интервалов"
      ]
    },
    {
      "cell_type": "code",
      "metadata": {
        "id": "osL93J6tiYqm",
        "colab_type": "code",
        "outputId": "298c7e07-f341-44e1-88c5-52d3a0b88364",
        "colab": {
          "base_uri": "https://localhost:8080/",
          "height": 260
        }
      },
      "source": [
        "# Возмьмите 10000 реплик из rainfall и посчитайте среднее\n",
        "bs_replicates = draw_bs_reps(rainfall, func = np.mean, size = 10000 )\n",
        "\n",
        "# Для нормального распределения эмпирическая ошибка среднего значения вычисляется как стандартное std/sqrt(N). Вычислите ее для rainfall\n",
        "sem = np.std(rainfall) / np.sqrt(len(rainfall))\n",
        "print(sem)\n",
        "\n",
        "# Вычислите ее с помощью бутсреп\n",
        "bs_std = np.std(bs_replicates) / np.sqrt(len(bs_replicates))\n",
        "print(bs_std)\n",
        "\n",
        "# Нарисуйте гистограмку распределения среднего\n",
        "_ = plt.hist(bs_replicates)\n",
        "_ = plt.xlabel('mean annual rainfall (mm)')\n",
        "_ = plt.ylabel('PDF')"
      ],
      "execution_count": 0,
      "outputs": [
        {
          "output_type": "stream",
          "text": [
            "0.9488593574676786\n",
            "0.009426084544629714\n"
          ],
          "name": "stdout"
        },
        {
          "output_type": "display_data",
          "data": {
            "image/png": "[encoded data removed]",
            "text/plain": [
              "<Figure size 288x216 with 1 Axes>"
            ]
          },
          "metadata": {
            "tags": []
          }
        }
      ]
    },
    {
      "cell_type": "markdown",
      "metadata": {
        "id": "H6toJIPgN7Dz",
        "colab_type": "text"
      },
      "source": [
        "## Доверительный интервал \n",
        "дает оценку для интервала в котором стоит ожидать какую-то конкретную величину при повторении эксперимента. \n",
        "Для некоторых распределений можно вычислить их аналитически (например для нормального), а в общем случае их всегда можно получить с помощью бустрапа\n",
        "Для вычисления доверительного интервала нужно задать еще вероятность. Использовать процентили"
      ]
    },
    {
      "cell_type": "code",
      "metadata": {
        "id": "VeKIvJBqibwj",
        "colab_type": "code",
        "outputId": "10174067-577c-4ab6-86f4-b8a5f48318d6",
        "colab": {
          "base_uri": "https://localhost:8080/",
          "height": 35
        }
      },
      "source": [
        "\n",
        "print(\"95% значений средне-годовых осадков попадают в интервал: \"+str(np.percentile(bs_replicates, 2.5))+','+ str(np.percentile(bs_replicates, 97.5)))"
      ],
      "execution_count": 0,
      "outputs": [
        {
          "output_type": "stream",
          "text": [
            "95% значений средне-годовых осадков попадают в интервал: 64.94219101123595,68.63620942571787\n"
          ],
          "name": "stdout"
        }
      ]
    },
    {
      "cell_type": "markdown",
      "metadata": {
        "id": "lzLcVKUwOCZY",
        "colab_type": "text"
      },
      "source": [
        "## Доверительные интервалы для любой статистики\n",
        "Можно построить оценки для любой статистики, например для дисперсии"
      ]
    },
    {
      "cell_type": "code",
      "metadata": {
        "id": "uIIXJTgZigor",
        "colab_type": "code",
        "outputId": "13eecc76-f3db-4a76-b329-246246ab483b",
        "colab": {
          "base_uri": "https://localhost:8080/",
          "height": 225
        }
      },
      "source": [
        "# Постройте 10000 реплик для оценки дисперсии\n",
        "bs_replicates = draw_bs_reps(rainfall,np.var,10000)\n",
        "\n",
        "bs_replicates = bs_replicates/100\n",
        "\n",
        "# Make a histogram of the results\n",
        "_ = plt.hist(bs_replicates, density =True, bins = 50)\n",
        "_ = plt.xlabel('variance of annual rainfall (sq. cm)')\n",
        "_ = plt.ylabel('PDF')"
      ],
      "execution_count": 0,
      "outputs": [
        {
          "output_type": "display_data",
          "data": {
            "image/png": "[encoded data removed]",
            "text/plain": [
              "<Figure size 288x216 with 1 Axes>"
            ]
          },
          "metadata": {
            "tags": []
          }
        }
      ]
    },
    {
      "cell_type": "markdown",
      "metadata": {
        "id": "YKi-AjOhizhk",
        "colab_type": "text"
      },
      "source": [
        "## Построение бутстреп доверительных интервалов для линейной регрессии\n",
        "\n",
        "Можно даже построить доверительные интвервала для коэффициентов регрессии\n"
      ]
    },
    {
      "cell_type": "code",
      "metadata": {
        "id": "1KOV8T05ipfK",
        "colab_type": "code",
        "colab": {}
      },
      "source": [
        "def draw_bs_pairs_linreg(x, y, size=1):\n",
        "    \"\"\"Perform pairs bootstrap for linear regression.\"\"\"\n",
        "\n",
        "    # Set up array of indices to sample from: inds\n",
        "    inds = np.arange(len(x))\n",
        "\n",
        "    # Initialize replicates: bs_slope_reps, bs_intercept_reps\n",
        "    bs_slope_reps = np.empty(size)\n",
        "    bs_intercept_reps = np.empty(size)\n",
        "\n",
        "    # Generate replicates\n",
        "    for i in range(size):\n",
        "        bs_inds = np.random.choice(inds, size=len(inds))\n",
        "        bs_x, bs_y = x[bs_inds], y[bs_inds]\n",
        "        bs_slope_reps[i], bs_intercept_reps[i] = np.polyfit( bs_x, bs_y, 1)\n",
        "\n",
        "    return bs_slope_reps, bs_intercept_reps"
      ],
      "execution_count": 0,
      "outputs": []
    },
    {
      "cell_type": "markdown",
      "metadata": {
        "id": "u6iKY908nXfn",
        "colab_type": "text"
      },
      "source": [
        "## Задание: \n",
        "посмотрите задачку с линейной регрессией и постройте доверительные интервалы для среднего и дисперсии"
      ]
    },
    {
      "cell_type": "markdown",
      "metadata": {
        "id": "UE6AMg7AwR7z",
        "colab_type": "text"
      },
      "source": [
        ">В ДатаКампе завершила курс, там строила эти графики для датасета по грамотности и плодовитости."
      ]
    },
    {
      "cell_type": "markdown",
      "metadata": {
        "id": "7pX9kc_tjWLK",
        "colab_type": "text"
      },
      "source": [
        "# Тестирование гипотез\n",
        "Мы с вами уже определяли и оценивали параметры с учетом модели. Но остается вопрос: насколько вероятно получить изучаемые данные из выбранной модели? Этот вопрос решается с помощью тестирования гипотез. [Прочитайте про проверку гипотез и расскажите мне, что вы поняли, а лучше что не поняли!](http://www.machinelearning.ru/wiki/index.php?title=%D0%9F%D1%80%D0%BE%D0%B2%D0%B5%D1%80%D0%BA%D0%B0_%D1%81%D1%82%D0%B0%D1%82%D0%B8%D1%81%D1%82%D0%B8%D1%87%D0%B5%D1%81%D0%BA%D0%B8%D1%85_%D0%B3%D0%B8%D0%BF%D0%BE%D1%82%D0%B5%D0%B7)"
      ]
    },
    {
      "cell_type": "markdown",
      "metadata": {
        "id": "3v3YWcqEjb8t",
        "colab_type": "text"
      },
      "source": [
        "### Вот помню было время и колбаса была вкуснее, и сметана гуще и девки краше\n",
        "\n",
        "Давайте научимся сравнивать выборки между собой и делать выводы используя доказательную базу. ВАЖНО! Вопросы могут быть разные про выборки, поэтому и гипотезы формулируются по разному, и проверять их тоже нужно по разному. Вас может интересовать равенство двух распределений - это одна история, очень строгий вывод. Вас может интересовать задача сравнения двух средних, при этом распределения могут и отличаться. У вас могут быть разные исходные данные. Вариантов много, но принцип сравнения одинаковый. "
      ]
    },
    {
      "cell_type": "code",
      "metadata": {
        "id": "-FYq3WzKi8E6",
        "colab_type": "code",
        "colab": {}
      },
      "source": [
        "#Например давайте сравним распределения осадков в ноябре и июле. Но вообще из общих соображений наверное они должны быть разные. Проверим это!\n",
        "#Для начала надо выделить июльские осадки и ноябрьские в отдельным переменные\n",
        "rain_july = df_weather.loc[df_weather['mm']==7,'rain']\n",
        "rain_november = df_weather.loc[df_weather['mm']==11,'rain']\n",
        "rain_october = df_weather.loc[df_weather['mm']==10,'rain']"
      ],
      "execution_count": 0,
      "outputs": []
    },
    {
      "cell_type": "markdown",
      "metadata": {
        "id": "TRhlTrJ1jiYZ",
        "colab_type": "text"
      },
      "source": [
        "#### Тестирование гипотез с помощью перемешивания\n",
        "Идея заключается в следующем  - соберем все данные в один массив, перемешаем его и нарежем на куски таких же размеров  как у исходных данных. Сделаем так много-много раз. Посчитаем характеристики перемешанных образцов  - и если мы их не можем отличить от исходных характеристик массивов, значит можно считать, что и наши эмпирические данные могут быть одним из таких вариантов перестановок. Если непонятно - ничего, сделайте задание, потом еще раз вернитесь. "
      ]
    },
    {
      "cell_type": "code",
      "metadata": {
        "id": "z9NYhvm6jemg",
        "colab_type": "code",
        "colab": {}
      },
      "source": [
        "#Напишите функцию, которая берет на вход два массива, соединяет их, перемешивает и возвращает два массива с длинной как у исходных, \n",
        "#но состоящи из перемешанных элементов объединенного массива \n",
        "def permutation_sample(data1, data2):\n",
        "    \"\"\"Generate a permutation sample from two data sets.\"\"\"\n",
        "\n",
        "    # Объедините два датасета с помощью функции  np.concatenate()\n",
        "    data = np.concatenate((data1, data2))\n",
        "\n",
        "    # Теперь перемешайте весь массив с помощью np.random.permutation()\n",
        "    permuted_data = np.random.permutation(data)\n",
        "\n",
        "    # Теперь переразбейте массив на два таких чтобы длина perm_sample_1 была равна длинне data1 , а perm_sample_2  - длинне data2\n",
        "    perm_sample_1 = permuted_data[:len(data1)]\n",
        "    perm_sample_2 = permuted_data[len(data1):]\n",
        "\n",
        "    return perm_sample_1, perm_sample_2"
      ],
      "execution_count": 0,
      "outputs": []
    },
    {
      "cell_type": "code",
      "metadata": {
        "id": "isq4ffUjjmOG",
        "colab_type": "code",
        "outputId": "d1560731-d9b4-4cf2-978d-30d58599137a",
        "colab": {
          "base_uri": "https://localhost:8080/",
          "height": 226
        }
      },
      "source": [
        "#А теперь давайте сгенерируем 50 таких перемешанных сетов и нарисуем получившиеся распределения для новых и исходных данных с помощью ecdf\n",
        "def do_perm(data1, data2, size=50):\n",
        "  \"\"\"Permutes and displays 2 samples\"\"\"\n",
        "\n",
        "  for i in range(50):\n",
        "    # Сгенерируйте новые перемешанные датасеты с помощью написанной функции permutation_sample()\n",
        "    perm_sample_1, perm_sample_2 = permutation_sample(data1, data2)\n",
        "\n",
        "\n",
        "    # Вычислите ecdf\n",
        "    x_1, y_1 = ecdf(perm_sample_1)\n",
        "    x_2, y_2 = ecdf(perm_sample_2)\n",
        "\n",
        "    # Нарисуйте ecdf\n",
        "    _ = plt.plot(x_1, y_1, marker='.', linestyle='none',\n",
        "                 color='red', alpha=0.02)\n",
        "    _ = plt.plot(x_2, y_2, marker='.', linestyle='none',\n",
        "                 color='blue', alpha=0.02)\n",
        "\n",
        "  # Вычислите ecdf из исходных данные\n",
        "  x_1, y_1 = ecdf(data1)\n",
        "  x_2, y_2 = ecdf(data2)\n",
        "  _ = plt.plot(x_1, y_1, marker='.', linestyle='none', color='red')\n",
        "  _ = plt.plot(x_2, y_2, marker='.', linestyle='none', color='blue')\n",
        "\n",
        "  # Добавим оси и красоты\n",
        "  plt.margins(0.02)\n",
        "  _ = plt.xlabel('monthly rainfall (mm)')\n",
        "  _ = plt.ylabel('ECDF')\n",
        "do_perm(rain_july, rain_november)"
      ],
      "execution_count": 0,
      "outputs": [
        {
          "output_type": "display_data",
          "data": {
            "image/png": "[encoded data removed]",
            "text/plain": [
              "<Figure size 288x216 with 1 Axes>"
            ]
          },
          "metadata": {
            "tags": []
          }
        }
      ]
    },
    {
      "cell_type": "markdown",
      "metadata": {
        "id": "_xUQiDPmQS7K",
        "colab_type": "text"
      },
      "source": [
        ">Сравнили для июля и ноября: перемешанные данные не совпадают с реальными, а находятся между - значит показания действительно различаются."
      ]
    },
    {
      "cell_type": "code",
      "metadata": {
        "id": "sS5XztvFxVH4",
        "colab_type": "code",
        "outputId": "e913a901-26d9-4624-b779-101edba3015a",
        "colab": {
          "base_uri": "https://localhost:8080/",
          "height": 226
        }
      },
      "source": [
        "do_perm(rain_october, rain_november)"
      ],
      "execution_count": 0,
      "outputs": [
        {
          "output_type": "display_data",
          "data": {
            "image/png": "[encoded data removed]",
            "text/plain": [
              "<Figure size 288x216 with 1 Axes>"
            ]
          },
          "metadata": {
            "tags": []
          }
        }
      ]
    },
    {
      "cell_type": "markdown",
      "metadata": {
        "id": "7Fkp7hdJSCna",
        "colab_type": "text"
      },
      "source": [
        ">Сравнили для октября и ноября: перемешивание дало понять, что разницы между данными для этих 2 месяцев нет."
      ]
    },
    {
      "cell_type": "code",
      "metadata": {
        "id": "9srnTd8ujpsl",
        "colab_type": "code",
        "colab": {}
      },
      "source": [
        "frogs_path = \"https://github.com/AmoDinho/datacamp-python-data-science-track/raw/master/Statistical%20Thinking%20in%20Python%20(Part%202)/Datasets/frog_tongue.csv\"\n",
        "\n",
        "df = pd.read_csv(frogs_path, usecols = ['ID','impact force (mN)' ],  skiprows=14)"
      ],
      "execution_count": 0,
      "outputs": []
    },
    {
      "cell_type": "markdown",
      "metadata": {
        "id": "ob2MZTHCkPIg",
        "colab_type": "text"
      },
      "source": [
        "Будем сравнивать группу взрослых (I и II категория) и юных особей (III и IV ). Сделайте новую колонку ID_2   в которой значению I и II  будет соответствовать A, а значениям III и  IV  - B.\n",
        "Если забыли как это делать  - смотрите блокнот 2_Intro_to_Python_no_tasks "
      ]
    },
    {
      "cell_type": "code",
      "metadata": {
        "id": "vdOTosjij8J6",
        "colab_type": "code",
        "outputId": "8e038413-5c09-4833-f82c-ea75ef86d96c",
        "colab": {
          "base_uri": "https://localhost:8080/",
          "height": 202
        }
      },
      "source": [
        "df['ID_2']='A'\n",
        "df.loc[np.logical_or(df['ID']=='III',df['ID']=='IV'), 'ID_2'] = 'B'\n",
        "df.tail()"
      ],
      "execution_count": 0,
      "outputs": [
        {
          "output_type": "execute_result",
          "data": {
            "text/html": [
              "<div>\n",
              "<style scoped>\n",
              "    .dataframe tbody tr th:only-of-type {\n",
              "        vertical-align: middle;\n",
              "    }\n",
              "\n",
              "    .dataframe tbody tr th {\n",
              "        vertical-align: top;\n",
              "    }\n",
              "\n",
              "    .dataframe thead th {\n",
              "        text-align: right;\n",
              "    }\n",
              "</style>\n",
              "<table border=\"1\" class=\"dataframe\">\n",
              "  <thead>\n",
              "    <tr style=\"text-align: right;\">\n",
              "      <th></th>\n",
              "      <th>ID</th>\n",
              "      <th>impact force (mN)</th>\n",
              "      <th>ID_2</th>\n",
              "    </tr>\n",
              "  </thead>\n",
              "  <tbody>\n",
              "    <tr>\n",
              "      <th>75</th>\n",
              "      <td>IV</td>\n",
              "      <td>402</td>\n",
              "      <td>B</td>\n",
              "    </tr>\n",
              "    <tr>\n",
              "      <th>76</th>\n",
              "      <td>IV</td>\n",
              "      <td>605</td>\n",
              "      <td>B</td>\n",
              "    </tr>\n",
              "    <tr>\n",
              "      <th>77</th>\n",
              "      <td>IV</td>\n",
              "      <td>711</td>\n",
              "      <td>B</td>\n",
              "    </tr>\n",
              "    <tr>\n",
              "      <th>78</th>\n",
              "      <td>IV</td>\n",
              "      <td>614</td>\n",
              "      <td>B</td>\n",
              "    </tr>\n",
              "    <tr>\n",
              "      <th>79</th>\n",
              "      <td>IV</td>\n",
              "      <td>468</td>\n",
              "      <td>B</td>\n",
              "    </tr>\n",
              "  </tbody>\n",
              "</table>\n",
              "</div>"
            ],
            "text/plain": [
              "    ID  impact force (mN) ID_2\n",
              "75  IV                402    B\n",
              "76  IV                605    B\n",
              "77  IV                711    B\n",
              "78  IV                614    B\n",
              "79  IV                468    B"
            ]
          },
          "metadata": {
            "tags": []
          },
          "execution_count": 18
        }
      ]
    },
    {
      "cell_type": "markdown",
      "metadata": {
        "id": "I5s2UngQkZlX",
        "colab_type": "text"
      },
      "source": [
        " Не забываем про визуальный анализ. Используйте sns.swarmplot для того, чтобы посмотреть как в зависимости от категории \n",
        " распределен параметр impact force (N). Не забудьте подписать оси. Нарисуйте два графика  - на одном  распределение параметра \n",
        " по категориям ID, на втором ID_2. Напишите, что вы заметили?"
      ]
    },
    {
      "cell_type": "code",
      "metadata": {
        "id": "hWXoF5tOkSQB",
        "colab_type": "code",
        "outputId": "731b016a-7108-459c-bb96-65876a1e45a6",
        "colab": {
          "base_uri": "https://localhost:8080/",
          "height": 225
        }
      },
      "source": [
        "plt.figure(figsize = (8,3))\n",
        "plt.subplot(121)\n",
        "_ = sns.swarmplot(x='ID', y = 'impact force (mN)', data = df)\n",
        "\n",
        "_ = plt.xlabel('frog')\n",
        "_ = plt.ylabel('impact force (N)')\n",
        "\n",
        "plt.subplot(122)\n",
        "_ = sns.swarmplot(x='ID_2', y = 'impact force (mN)', data = df)\n",
        "\n",
        "_ = plt.xlabel('frog')\n",
        "_ = plt.ylabel('impact force (N)')"
      ],
      "execution_count": 0,
      "outputs": [
        {
          "output_type": "display_data",
          "data": {
            "image/png": "[encoded data removed]",
            "text/plain": [
              "<Figure size 576x216 with 2 Axes>"
            ]
          },
          "metadata": {
            "tags": []
          }
        }
      ]
    },
    {
      "cell_type": "markdown",
      "metadata": {
        "id": "hArzouXykg7_",
        "colab_type": "text"
      },
      "source": [
        "Кажется, что распределения отличаются. Но, вот посмотрите тут видно (и да так очень часто делают и не только студенты) - нам не подходит. Должна быть проведена проверка. Давайте сравним среднее у этих двух выборок"
      ]
    },
    {
      "cell_type": "code",
      "metadata": {
        "id": "GFlUDQ0_kaqD",
        "colab_type": "code",
        "outputId": "8924d124-20cd-45ec-d282-3ce6b8c53afe",
        "colab": {
          "base_uri": "https://localhost:8080/",
          "height": 35
        }
      },
      "source": [
        "force_a = df.loc[df['ID_2']=='A','impact force (mN)'].values\n",
        "force_b = df.loc[df['ID_2']=='B','impact force (mN)'].values\n",
        "print(np.mean(force_a), np.mean(force_b))"
      ],
      "execution_count": 0,
      "outputs": [
        {
          "output_type": "stream",
          "text": [
            "1118.775 484.6\n"
          ],
          "name": "stdout"
        }
      ]
    },
    {
      "cell_type": "markdown",
      "metadata": {
        "id": "FvcJWdfzkoqs",
        "colab_type": "text"
      },
      "source": [
        "### Сравнение двух средних. \n",
        "***Нулевая гипотеза***: \n",
        "разницы между средними нет: mean_1 - mean_2 = 0\n",
        "\n",
        "***Альтернативная гипотеза***:\n",
        "mean_1 > mean_2 (кто кого должен быть больше понимайте из реальных данных)\n",
        "\n",
        "***Pipeline*** для проверки гипотезы:\n",
        " - Формулируем гипотезу, с помощью которой можно оценить адекватность получить имеющиеся данные \n",
        " - Нам нужна какая-то тестовая статистика - то есть !ОДНО! число, которое мы можем оценить и из исходных данных и из симуляций. Она должна дать базис для сравнения двух гипотез\n",
        " - Считаем p-value для этой статистики. P-value  - это вероятность получения такого же или большего значения вашей тестовой статистики как в наблюдаемых данных, при условии что нулевая гипотеза верна. !!! НЕ вероятность того, что нулевая гипотеза верна"
      ]
    },
    {
      "cell_type": "code",
      "metadata": {
        "id": "hUlPDVK2klLo",
        "colab_type": "code",
        "colab": {}
      },
      "source": [
        "#Сейчас решаем задачу двух средних для случая когда у нас на руках есть две довольно большие выборки, \n",
        "#среднее между которыми мы хотим сравнить между собой. Делать это будем с помощью уже довольно знакомой процедуры перемешивания.\n",
        "\n",
        "def draw_perm_reps(data_1, data_2, func, size=1):\n",
        "    \"\"\"Generate multiple permutation replicates.\"\"\"\n",
        "\n",
        "    # Инициализируем пустой массив размера size\n",
        "    perm_replicates = np.empty(size)\n",
        "\n",
        "    #Делаем перемешанные образцы в количестве size \n",
        "    for i in range(size):\n",
        "        # Generate permutation sample\n",
        "        perm_sample_1, perm_sample_2 = permutation_sample(data_1,data_2)\n",
        "\n",
        "        # Вычислаяем тестовую статистику на основе этих двух образцов\n",
        "        perm_replicates[i] = func(perm_sample_1, perm_sample_2)\n",
        "\n",
        "    return perm_replicates"
      ],
      "execution_count": 0,
      "outputs": []
    },
    {
      "cell_type": "code",
      "metadata": {
        "id": "j4jD1K0Fl2it",
        "colab_type": "code",
        "outputId": "d2aa0720-7b5e-41e7-c3ea-9ee09c45b817",
        "colab": {
          "base_uri": "https://localhost:8080/",
          "height": 35
        }
      },
      "source": [
        "#Вариант тестовой статистики для разницы между средними\n",
        "def diff_of_means(data_1, data_2):\n",
        "    \"\"\"Difference in means of two arrays.\"\"\"\n",
        "\n",
        "    # Разница между средними data_1, data_2\n",
        "    diff = np.mean(data_1) - np.mean(data_2)\n",
        "\n",
        "    return diff\n",
        "\n",
        "# Вычислите разницу для эксперимента с лягушками между force_a и force_b empirical_diff_means\n",
        "empirical_diff_means = diff_of_means(force_a, force_b)\n",
        "\n",
        "# Получите 10000 реплик для разницы среднего с помощью перемешивания: perm_replicates\n",
        "perm_replicates = draw_perm_reps(force_a, force_b,\n",
        "                                 diff_of_means, size=10000)\n",
        "\n",
        "# Вычислите p-value: p\n",
        "p = np.sum(perm_replicates >= empirical_diff_means) / len(perm_replicates)\n",
        "\n",
        "# Выведите p value. Какой вывод делаем? Прямо напишите его и аргументируйте в ячейке.\n",
        "print('p-value =', p)"
      ],
      "execution_count": 0,
      "outputs": [
        {
          "output_type": "stream",
          "text": [
            "p-value = 0.0\n"
          ],
          "name": "stdout"
        }
      ]
    },
    {
      "cell_type": "markdown",
      "metadata": {
        "id": "a4VdVz9o1nwq",
        "colab_type": "text"
      },
      "source": [
        "P-value равно 0, а значит вероятность встретить такую же выборку при верности нашей гипотезы тоже равна нулю - гипотезу спокойно отвергаем."
      ]
    },
    {
      "cell_type": "code",
      "metadata": {
        "id": "cOmmhbsLmBdu",
        "colab_type": "code",
        "outputId": "0a69fa55-d2a6-4c52-d4fa-d292aae0f75a",
        "colab": {
          "base_uri": "https://localhost:8080/",
          "height": 35
        }
      },
      "source": [
        "#Сделайте теперь эксперимент: повыкидывайте большие значения (больше 1200) из группы взрослых лягушек и маленькие(меньше 300) и снова проведите тест на равенство средних  \n",
        "force_a = df.loc[np.logical_and(df['ID_2']=='A',df['impact force (mN)']<1200),'impact force (mN)'].values\n",
        "force_b = df.loc[np.logical_and(df['ID_2']=='B',df['impact force (mN)']>100),'impact force (mN)'].values\n",
        "print(np.mean(force_a), np.mean(force_b))"
      ],
      "execution_count": 0,
      "outputs": [
        {
          "output_type": "stream",
          "text": [
            "563.8095238095239 508.55263157894734\n"
          ],
          "name": "stdout"
        }
      ]
    },
    {
      "cell_type": "code",
      "metadata": {
        "id": "LURtYI7-2F3v",
        "colab_type": "code",
        "outputId": "c31c13ee-8e46-4a95-8a58-112b83d942e3",
        "colab": {
          "base_uri": "https://localhost:8080/",
          "height": 35
        }
      },
      "source": [
        "# Вычислите разницу для эксперимента с лягушками между force_a и force_b empirical_diff_means\n",
        "empirical_diff_means = diff_of_means(force_a, force_b)\n",
        "\n",
        "# Получите 10000 реплик для разницы среднего с помощью перемешивания: perm_replicates\n",
        "perm_replicates = draw_perm_reps(force_a, force_b,\n",
        "                                 diff_of_means, size=10000)\n",
        "\n",
        "# Вычислите p-value: p\n",
        "p = np.sum(perm_replicates >= empirical_diff_means) / len(perm_replicates)\n",
        "\n",
        "# Выведите p value. Какой вывод делаем? Прямо напишите его и аргументируйте в ячейке.\n",
        "print('p-value =', p)"
      ],
      "execution_count": 0,
      "outputs": [
        {
          "output_type": "stream",
          "text": [
            "p-value = 0.1457\n"
          ],
          "name": "stdout"
        }
      ]
    },
    {
      "cell_type": "markdown",
      "metadata": {
        "id": "qCMkvowD2Hjk",
        "colab_type": "text"
      },
      "source": [
        "Пи-вэлью стал примерно 15%. Уже видим, что такая выборка (средние силы удара), как в реальных данных (ограниченных нами), может встретиться с небольшой вероятностью, если опять же наша гипотеза верна."
      ]
    },
    {
      "cell_type": "code",
      "metadata": {
        "id": "s0gCqY5BmB9t",
        "colab_type": "code",
        "outputId": "6467a80f-ed6f-463d-85ef-d02abb1cf5e7",
        "colab": {
          "base_uri": "https://localhost:8080/",
          "height": 35
        }
      },
      "source": [
        "#Сравните теперь между собой группы взрослых лягушек и детей (группы I и II, III и IV)\n",
        "force_a = df.loc[np.logical_and(df['ID']=='III', df['impact force (mN)']<600),'impact force (mN)'].values\n",
        "force_b = df.loc[np.logical_and(df['ID']=='IV',df['impact force (mN)']>300),'impact force (mN)'].values\n",
        "print(np.mean(force_a), np.mean(force_b))"
      ],
      "execution_count": 0,
      "outputs": [
        {
          "output_type": "stream",
          "text": [
            "472.4166666666667 564.6153846153846\n"
          ],
          "name": "stdout"
        }
      ]
    },
    {
      "cell_type": "code",
      "metadata": {
        "id": "-sTwVwqu2qC4",
        "colab_type": "code",
        "outputId": "f99637d8-e539-4fcd-fe00-97c1afa34c26",
        "colab": {
          "base_uri": "https://localhost:8080/",
          "height": 35
        }
      },
      "source": [
        "# Вычислите разницу для эксперимента с лягушками между force_a и force_b empirical_diff_means\n",
        "empirical_diff_means = diff_of_means(force_a, force_b)\n",
        "\n",
        "# Получите 10000 реплик для разницы среднего с помощью перемешивания: perm_replicates\n",
        "perm_replicates = draw_perm_reps(force_a, force_b,\n",
        "                                 diff_of_means, size=10000)\n",
        "\n",
        "# Вычислите p-value: p\n",
        "p = np.sum(perm_replicates >= empirical_diff_means) / len(perm_replicates)\n",
        "\n",
        "# Выведите p value. Какой вывод делаем? Прямо напишите его и аргументируйте в ячейке.\n",
        "print('p-value =', p)"
      ],
      "execution_count": 0,
      "outputs": [
        {
          "output_type": "stream",
          "text": [
            "p-value = 0.9785\n"
          ],
          "name": "stdout"
        }
      ]
    },
    {
      "cell_type": "markdown",
      "metadata": {
        "id": "34k5wCDp3SDR",
        "colab_type": "text"
      },
      "source": [
        "Очевидно, что, если сравнивать между собой две группы детей, мы не увидим большой разницы между их силами удара. В почти 98% случаев мы повторим тестовые данные, если нулевая гипотеза о равенстве силы удара верна."
      ]
    },
    {
      "cell_type": "code",
      "metadata": {
        "id": "CZalW4hh32aA",
        "colab_type": "code",
        "outputId": "32310880-5bb1-4ea8-8c02-efb0818c2403",
        "colab": {
          "base_uri": "https://localhost:8080/",
          "height": 35
        }
      },
      "source": [
        "#Сравните теперь между собой группы взрослых лягушек и детей (группы I и II, III и IV)\n",
        "force_a = df.loc[np.logical_and(df['ID']=='II', df['impact force (mN)']<1200),'impact force (mN)'].values\n",
        "force_b = df.loc[np.logical_and(df['ID']=='I',df['impact force (mN)']>1200),'impact force (mN)'].values\n",
        "print(np.mean(force_a), np.mean(force_b))"
      ],
      "execution_count": 0,
      "outputs": [
        {
          "output_type": "stream",
          "text": [
            "561.3529411764706 1769.1875\n"
          ],
          "name": "stdout"
        }
      ]
    },
    {
      "cell_type": "code",
      "metadata": {
        "id": "7PE4JWe1mKM2",
        "colab_type": "code",
        "outputId": "fdce2713-a532-4586-bf02-c75788d6ffe0",
        "colab": {
          "base_uri": "https://localhost:8080/",
          "height": 35
        }
      },
      "source": [
        "perm_replicates = draw_perm_reps(force_a, force_b,\n",
        "                                 diff_of_means, size=10000)\n",
        "\n",
        "empirical_diff_means = diff_of_means(force_a, force_b)\n",
        "# Compute p-value: p\n",
        "p = np.sum(perm_replicates >= empirical_diff_means) / len(perm_replicates)\n",
        "\n",
        "# Print the result\n",
        "print('p-value =', p)"
      ],
      "execution_count": 0,
      "outputs": [
        {
          "output_type": "stream",
          "text": [
            "p-value = 1.0\n"
          ],
          "name": "stdout"
        }
      ]
    },
    {
      "cell_type": "markdown",
      "metadata": {
        "id": "sZ8v52Cf4-_H",
        "colab_type": "text"
      },
      "source": [
        "Видим, что и у взрослых разницы между средними нет."
      ]
    },
    {
      "cell_type": "markdown",
      "metadata": {
        "id": "1J7Tz8E2m813",
        "colab_type": "text"
      },
      "source": [
        "## Перемешивание vs bootstrap\n",
        "Перемешивание и бутстрап. Почитайте книжечку из папочки и расскажите мне кто зачем нужен"
      ]
    },
    {
      "cell_type": "markdown",
      "metadata": {
        "id": "WVivvfxPUrkl",
        "colab_type": "text"
      },
      "source": [
        ">1. Перемешивание требует, чтобы наши данные имели одинаковую дисперсию и размер выборки (иначе результат будет недостоверным). С его помощью можно сравнить распределение двух популяций, но мы никогда не получим больше информации, чем уже есть.\n",
        "2. Бутстрэп искусственно создаёт новые сэмплы из выборки. Можно нагенерить дополнительных данных, чтобы посмотреть на дисперсию и предположить, при каком кол-ве экспериментов (сэмплов) можно было бы с определённой уверенностью попасть в 5% по нашей статистике и отвергнуть нулевую гипотезу."
      ]
    },
    {
      "cell_type": "code",
      "metadata": {
        "id": "O6Wo6KJumiES",
        "colab_type": "code",
        "colab": {}
      },
      "source": [
        "def bootstrap_replicate_1d(data, func):\n",
        "    return func(np.random.choice(data, size=len(data)))\n",
        "\n",
        "def draw_bs_reps(data, func, size=1):\n",
        "    \"\"\"bootstrap replicates.\"\"\"\n",
        "\n",
        "    # Инициализируйте пустой массив размером size\n",
        "    bs_replicates = np.empty(size)\n",
        "\n",
        "    # Посчитайте характеристику реплики:\n",
        "    for i in range(size):\n",
        "        bs_replicates[i] = bootstrap_replicate_1d(data, func)\n",
        "\n",
        "    return bs_replicates"
      ],
      "execution_count": 0,
      "outputs": []
    },
    {
      "cell_type": "code",
      "metadata": {
        "id": "sMq1SljbnBha",
        "colab_type": "code",
        "outputId": "372d33c2-db21-4e8b-e98c-eb9841d8a63c",
        "colab": {
          "base_uri": "https://localhost:8080/",
          "height": 107
        }
      },
      "source": [
        "force_3 = df.loc[np.logical_and(df['ID']=='III', df['impact force (mN)']<1000),'impact force (mN)'].as_matrix()\n",
        "force_4 = df.loc[np.logical_and(df['ID']=='IV',df['impact force (mN)']>100),'impact force (mN)'].as_matrix()"
      ],
      "execution_count": 0,
      "outputs": [
        {
          "output_type": "stream",
          "text": [
            "/usr/local/lib/python3.6/dist-packages/ipykernel_launcher.py:1: FutureWarning: Method .as_matrix will be removed in a future version. Use .values instead.\n",
            "  \"\"\"Entry point for launching an IPython kernel.\n",
            "/usr/local/lib/python3.6/dist-packages/ipykernel_launcher.py:2: FutureWarning: Method .as_matrix will be removed in a future version. Use .values instead.\n",
            "  \n"
          ],
          "name": "stderr"
        }
      ]
    },
    {
      "cell_type": "code",
      "metadata": {
        "id": "HLLsRnaRouEH",
        "colab_type": "code",
        "outputId": "a0f80f9f-350c-4dc8-aa4e-2c513f6ff402",
        "colab": {
          "base_uri": "https://localhost:8080/",
          "height": 35
        }
      },
      "source": [
        "# Make an array of translated impact forces: translated_force_b\n",
        "translated_force_3 = force_3  - np.mean(force_3)+560.1\n",
        "\n",
        "# Take bootstrap replicates of Frog B's translated impact forces: bs_replicates\n",
        "bs_replicates = draw_bs_reps(translated_force_3, func = np.mean, size = 10000)\n",
        "\n",
        "# Compute fraction of replicates that are less than the observed Frog B force: p\n",
        "p = np.sum(bs_replicates <= np.mean(force_3)) / 10000\n",
        "\n",
        "# Print the p-value\n",
        "print('p = ', p)"
      ],
      "execution_count": 0,
      "outputs": [
        {
          "output_type": "stream",
          "text": [
            "p =  0.3649\n"
          ],
          "name": "stdout"
        }
      ]
    },
    {
      "cell_type": "code",
      "metadata": {
        "id": "DbuSJWxyo9jR",
        "colab_type": "code",
        "outputId": "55fe5956-7d30-46c4-86d1-ba60428aac9d",
        "colab": {
          "base_uri": "https://localhost:8080/",
          "height": 35
        }
      },
      "source": [
        "# Compute difference of mean impact force from experiment: empirical_diff_means\n",
        "empirical_diff_means = diff_of_means(force_a,force_b)\n",
        "\n",
        "# Concatenate forces: forces_concat\n",
        "forces_concat = np.concatenate((force_a, force_b))\n",
        "\n",
        "# Initialize bootstrap replicates: bs_replicates\n",
        "bs_replicates = np.empty(10000)\n",
        "\n",
        "for i in range(10000):\n",
        "    # Generate bootstrap sample\n",
        "    bs_sample = np.random.choice(forces_concat, size = len(forces_concat))\n",
        "    \n",
        "    # Compute replicate\n",
        "    bs_replicates[i] = diff_of_means(bs_sample[:len(force_a)],\n",
        "                                     bs_sample[len(force_a):])\n",
        "\n",
        "# Compute and print p-value: p\n",
        "p = np.sum(bs_replicates>=empirical_diff_means) / len(bs_replicates)\n",
        "print('p-value =', p)"
      ],
      "execution_count": 0,
      "outputs": [
        {
          "output_type": "stream",
          "text": [
            "p-value = 1.0\n"
          ],
          "name": "stdout"
        }
      ]
    },
    {
      "cell_type": "code",
      "metadata": {
        "id": "kaEhzzoppEOD",
        "colab_type": "code",
        "outputId": "66dac37f-1f1f-4030-d2ca-3bf61f9499d8",
        "colab": {
          "base_uri": "https://localhost:8080/",
          "height": 34
        }
      },
      "source": [
        "# Compute mean of all forces: mean_force\n",
        "mean_force = np.mean(forces_concat)\n",
        "\n",
        "# Generate shifted arrays\n",
        "force_a_shifted = force_a - np.mean(force_a) + mean_force\n",
        "force_b_shifted = force_b - np.mean(force_b) + mean_force\n",
        "\n",
        "# Compute 10,000 bootstrap replicates from shifted arrays\n",
        "bs_replicates_a = draw_bs_reps(force_a_shifted, np.mean, 10000)\n",
        "bs_replicates_b = draw_bs_reps(force_b_shifted, np.mean, 10000)\n",
        "\n",
        "# Get replicates of difference of means: bs_replicates\n",
        "bs_replicates = bs_replicates_a - bs_replicates_b\n",
        "\n",
        "# Compute and print p-value: p\n",
        "p = np.sum(bs_replicates>=empirical_diff_means) / len(bs_replicates)\n",
        "print('p-value =', p)"
      ],
      "execution_count": 0,
      "outputs": [
        {
          "output_type": "stream",
          "text": [
            "p-value = 0.9857\n"
          ],
          "name": "stdout"
        }
      ]
    },
    {
      "cell_type": "code",
      "metadata": {
        "id": "9qvrE758pHLj",
        "colab_type": "code",
        "colab": {}
      },
      "source": [
        ""
      ],
      "execution_count": 0,
      "outputs": []
    }
  ]
}