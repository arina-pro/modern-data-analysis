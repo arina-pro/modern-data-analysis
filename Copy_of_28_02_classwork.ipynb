{
  "nbformat": 4,
  "nbformat_minor": 0,
  "metadata": {
    "colab": {
      "name": "Copy of 28/02_classwork.ipynb",
      "provenance": [],
      "collapsed_sections": []
    },
    "kernelspec": {
      "name": "python3",
      "display_name": "Python 3"
    }
  },
  "cells": [
    {
      "cell_type": "code",
      "metadata": {
        "id": "0a9H4O5-JCm3",
        "colab_type": "code",
        "colab": {}
      },
      "source": [
        "%matplotlib inline\n",
        "import numpy as np\n",
        "from scipy.stats import gamma, norm, beta, chi, f\n",
        "import matplotlib.pyplot as plt"
      ],
      "execution_count": 0,
      "outputs": []
    },
    {
      "cell_type": "markdown",
      "metadata": {
        "id": "iSV1wDZOYyGS",
        "colab_type": "text"
      },
      "source": [
        "https://drive.google.com/open?id=1kqjxeke9ovXSzTF283V6THSEusbsjwxS"
      ]
    },
    {
      "cell_type": "markdown",
      "metadata": {
        "id": "49mpBmp4pBQ1",
        "colab_type": "text"
      },
      "source": [
        "ЦПТ для другого распределения, доработать бутстреп и понять интервалы (презы прочитать, пересмотреть)."
      ]
    },
    {
      "cell_type": "markdown",
      "metadata": {
        "id": "gGQOhUqlFqBK",
        "colab_type": "text"
      },
      "source": [
        "## Центральная предельная теорема"
      ]
    },
    {
      "cell_type": "markdown",
      "metadata": {
        "id": "hKZ7I7kh1Dy2",
        "colab_type": "text"
      },
      "source": [
        "# Для $\\chi^2$"
      ]
    },
    {
      "cell_type": "code",
      "metadata": {
        "id": "MjJ6gJIKM0g9",
        "colab_type": "code",
        "outputId": "2c9d330c-5226-479d-ba6c-e375b3bf5409",
        "colab": {
          "base_uri": "https://localhost:8080/",
          "height": 50
        }
      },
      "source": [
        "chi.rvs(df=2, size=10)"
      ],
      "execution_count": 0,
      "outputs": [
        {
          "output_type": "execute_result",
          "data": {
            "text/plain": [
              "array([0.5522119 , 2.13978602, 0.99859817, 2.02590833, 1.2429163 ,\n",
              "       1.12554651, 2.82571083, 2.04485868, 0.4642375 , 1.37575977])"
            ]
          },
          "metadata": {
            "tags": []
          },
          "execution_count": 6
        }
      ]
    },
    {
      "cell_type": "markdown",
      "metadata": {
        "id": "gIJRqYuTPXzX",
        "colab_type": "text"
      },
      "source": [
        "Посчитать mean с заданным их кол-вом, нарисовать гистограмму и построить нормальное распр-е со средним, равным а, и дисперсией, равной $а/sqrt(N)$."
      ]
    },
    {
      "cell_type": "code",
      "metadata": {
        "id": "RRJbFW_JQXp9",
        "colab_type": "code",
        "colab": {}
      },
      "source": [
        "def check_chi(df, size):\n",
        "  sample_mean = np.zeros(1000)\n",
        "  for i in range(1000):\n",
        "    sample_mean[i] = np.mean(chi.rvs(df, size=size))\n",
        "  #means = [np.mean(gamma.rvs(a)) for i in size]\n",
        "  plt.hist(sample_mean, density=True)#, range=(0.01, 0.99))\n",
        "  a = chi.mean(df)\n",
        "  #a = np.mean(sample_mean)\n",
        "  start = norm.ppf(0.01, loc=a, scale=np.sqrt(a))\n",
        "  end = norm.ppf(0.99, loc=a, scale=np.sqrt(a))\n",
        "  x = np.linspace(start, end, 100)\n",
        "  y = norm.pdf(x, loc=a, scale=np.sqrt(a / size))\n",
        "  plt.plot(x, y, 'r', marker='.')"
      ],
      "execution_count": 0,
      "outputs": []
    },
    {
      "cell_type": "code",
      "metadata": {
        "id": "GPuhXQMLVLCH",
        "colab_type": "code",
        "outputId": "5241df56-6064-48b7-8ee5-65418e77fcaa",
        "colab": {
          "base_uri": "https://localhost:8080/",
          "height": 265
        }
      },
      "source": [
        "check_chi(2, 10)"
      ],
      "execution_count": 0,
      "outputs": [
        {
          "output_type": "display_data",
          "data": {
            "image/png": "[encoded data removed]",
            "text/plain": [
              "<Figure size 432x288 with 1 Axes>"
            ]
          },
          "metadata": {
            "tags": []
          }
        }
      ]
    },
    {
      "cell_type": "code",
      "metadata": {
        "id": "8c1vzRhGRtuv",
        "colab_type": "code",
        "outputId": "b770bc53-f603-42b8-836e-91182ffe3ab0",
        "colab": {
          "base_uri": "https://localhost:8080/",
          "height": 761
        }
      },
      "source": [
        "plt.subplots(); check_chi(2, 10)\n",
        "plt.subplots(); check_chi(2, 50)\n",
        "plt.subplots(); check_chi(2, 100)"
      ],
      "execution_count": 0,
      "outputs": [
        {
          "output_type": "display_data",
          "data": {
            "image/png": "[encoded data removed]",
            "text/plain": [
              "<Figure size 432x288 with 1 Axes>"
            ]
          },
          "metadata": {
            "tags": []
          }
        },
        {
          "output_type": "display_data",
          "data": {
            "image/png": "[encoded data removed]",
            "text/plain": [
              "<Figure size 432x288 with 1 Axes>"
            ]
          },
          "metadata": {
            "tags": []
          }
        },
        {
          "output_type": "display_data",
          "data": {
            "image/png": "[encoded data removed]",
            "text/plain": [
              "<Figure size 432x288 with 1 Axes>"
            ]
          },
          "metadata": {
            "tags": []
          }
        }
      ]
    },
    {
      "cell_type": "markdown",
      "metadata": {
        "id": "rol14qrp2BML",
        "colab_type": "text"
      },
      "source": [
        "# Для $\\beta$"
      ]
    },
    {
      "cell_type": "code",
      "metadata": {
        "id": "H_wJ3Q352FoE",
        "colab_type": "code",
        "outputId": "468e5523-ed80-4642-c9b3-b786b9362e8e",
        "colab": {
          "base_uri": "https://localhost:8080/",
          "height": 50
        }
      },
      "source": [
        "beta.rvs(a=2, b=1, size=10)"
      ],
      "execution_count": 0,
      "outputs": [
        {
          "output_type": "execute_result",
          "data": {
            "text/plain": [
              "array([0.4897348 , 0.6757645 , 0.42799587, 0.84583478, 0.74367703,\n",
              "       0.50450506, 0.83600827, 0.90073998, 0.59650251, 0.70301866])"
            ]
          },
          "metadata": {
            "tags": []
          },
          "execution_count": 21
        }
      ]
    },
    {
      "cell_type": "code",
      "metadata": {
        "id": "y6DXgReR2I6q",
        "colab_type": "code",
        "colab": {}
      },
      "source": [
        "def check_beta(a, b, size):\n",
        "  sample_mean = np.zeros(1000)\n",
        "  for i in range(1000):\n",
        "    sample_mean[i] = np.mean(beta.rvs(a, b, size=size))\n",
        "  #means = [np.mean(gamma.rvs(a)) for i in size]\n",
        "  plt.hist(sample_mean, density=True)#, range=(0.01, 0.99))\n",
        "  mean_a = np.mean(sample_mean)\n",
        "  start = norm.ppf(0.01, loc=mean_a, scale=np.sqrt(mean_a))\n",
        "  end = norm.ppf(0.99, loc=mean_a, scale=np.sqrt(mean_a))\n",
        "  x = np.linspace(start, end, 100)\n",
        "  y = norm.pdf(x, loc=mean_a, scale=np.sqrt(mean_a / size))\n",
        "  plt.plot(x, y, 'r', marker='.')"
      ],
      "execution_count": 0,
      "outputs": []
    },
    {
      "cell_type": "code",
      "metadata": {
        "id": "Xqyy8__w2rf9",
        "colab_type": "code",
        "outputId": "31fbf8a9-bf3c-4135-dfad-2009ba54c294",
        "colab": {
          "base_uri": "https://localhost:8080/",
          "height": 265
        }
      },
      "source": [
        "check_beta(2, 1, 100)"
      ],
      "execution_count": 0,
      "outputs": [
        {
          "output_type": "display_data",
          "data": {
            "image/png": "[encoded data removed]",
            "text/plain": [
              "<Figure size 432x288 with 1 Axes>"
            ]
          },
          "metadata": {
            "tags": []
          }
        }
      ]
    },
    {
      "cell_type": "markdown",
      "metadata": {
        "id": "NmV6202X28EN",
        "colab_type": "text"
      },
      "source": [
        "# Для Фишера"
      ]
    },
    {
      "cell_type": "code",
      "metadata": {
        "id": "R1yZOr1o3DCO",
        "colab_type": "code",
        "outputId": "e330decb-9868-4036-a652-83ec0701a9be",
        "colab": {
          "base_uri": "https://localhost:8080/",
          "height": 50
        }
      },
      "source": [
        "f.rvs(dfn=2, dfd=100, size=10)"
      ],
      "execution_count": 0,
      "outputs": [
        {
          "output_type": "execute_result",
          "data": {
            "text/plain": [
              "array([1.41894083, 1.44542883, 3.30290345, 2.80994261, 0.45819563,\n",
              "       0.26708556, 0.36317599, 0.82058511, 2.86455752, 2.56980297])"
            ]
          },
          "metadata": {
            "tags": []
          },
          "execution_count": 31
        }
      ]
    },
    {
      "cell_type": "code",
      "metadata": {
        "id": "Fn-G9Dzd3DMs",
        "colab_type": "code",
        "colab": {}
      },
      "source": [
        "def check_f(dfn, dfd, size):\n",
        "  sample_mean = np.zeros(1000)\n",
        "  for i in range(1000):\n",
        "    sample_mean[i] = np.mean(beta.rvs(dfn, dfd, size=size))\n",
        "  #means = [np.mean(gamma.rvs(a)) for i in size]\n",
        "  plt.hist(sample_mean, density=True)#, range=(0.01, 0.99))\n",
        "  mean_a = np.mean(sample_mean)\n",
        "  #mean_std = np.std(sample_mean)\n",
        "  start = norm.ppf(0.01, loc=mean_a, scale=np.sqrt(mean_a))\n",
        "  end = norm.ppf(0.99, loc=mean_a, scale=np.sqrt(mean_a))\n",
        "  x = np.linspace(start, end, 100)\n",
        "  y = norm.pdf(x, loc=mean_a, scale=np.sqrt(mean_a / size))\n",
        "  plt.plot(x, y, 'r', marker='.')"
      ],
      "execution_count": 0,
      "outputs": []
    },
    {
      "cell_type": "code",
      "metadata": {
        "id": "MLh46nsl3TrW",
        "colab_type": "code",
        "outputId": "8d4cec05-d91c-442d-ea33-eb85defd20d7",
        "colab": {
          "base_uri": "https://localhost:8080/",
          "height": 265
        }
      },
      "source": [
        "check_f(2, 5, 10)"
      ],
      "execution_count": 0,
      "outputs": [
        {
          "output_type": "display_data",
          "data": {
            "image/png": "[encoded data removed]",
            "text/plain": [
              "<Figure size 432x288 with 1 Axes>"
            ]
          },
          "metadata": {
            "tags": []
          }
        }
      ]
    },
    {
      "cell_type": "markdown",
      "metadata": {
        "id": "4OTYwYwiOTVQ",
        "colab_type": "text"
      },
      "source": [
        "Плохо выглядит, ну да ладно."
      ]
    },
    {
      "cell_type": "markdown",
      "metadata": {
        "id": "xdQfhM3817V-",
        "colab_type": "text"
      },
      "source": [
        "# В классе что делали"
      ]
    },
    {
      "cell_type": "code",
      "metadata": {
        "id": "bxdhWoglQzCn",
        "colab_type": "code",
        "outputId": "feb9bbd2-4870-48b2-fb3c-901a97c3e771",
        "colab": {
          "base_uri": "https://localhost:8080/",
          "height": 34
        }
      },
      "source": [
        "norm.pdf(0, 1)"
      ],
      "execution_count": 0,
      "outputs": [
        {
          "output_type": "execute_result",
          "data": {
            "text/plain": [
              "0.24197072451914337"
            ]
          },
          "metadata": {
            "tags": []
          },
          "execution_count": 28
        }
      ]
    },
    {
      "cell_type": "code",
      "metadata": {
        "id": "fuRXx2qNJWqZ",
        "colab_type": "code",
        "colab": {}
      },
      "source": [
        "def draw_gamma(a, size):\n",
        "  start = gamma.ppf(0.01, a)\n",
        "  end = gamma.ppf(0.99, a)\n",
        "  x = np.linspace(start, end, 100)\n",
        "  sample = gamma.rvs(a=a, size=size)\n",
        "  y = gamma.pdf(x, a)\n",
        "  plt.plot(x, y, 'r', marker='.')\n",
        "  plt.hist(sample, density=True, range=(start, end), bins=100)"
      ],
      "execution_count": 0,
      "outputs": []
    },
    {
      "cell_type": "code",
      "metadata": {
        "id": "6DZqrv2JJs52",
        "colab_type": "code",
        "outputId": "7a08e422-e31b-464a-9c1f-542dceb46206",
        "colab": {
          "base_uri": "https://localhost:8080/",
          "height": 265
        }
      },
      "source": [
        "draw_gamma(2, 1000000)"
      ],
      "execution_count": 0,
      "outputs": [
        {
          "output_type": "display_data",
          "data": {
            "image/png": "[encoded data removed]",
            "text/plain": [
              "<Figure size 432x288 with 1 Axes>"
            ]
          },
          "metadata": {
            "tags": []
          }
        }
      ]
    },
    {
      "cell_type": "markdown",
      "metadata": {
        "id": "33QFhyMwMRez",
        "colab_type": "text"
      },
      "source": [
        "Почти совпадают!"
      ]
    },
    {
      "cell_type": "code",
      "metadata": {
        "id": "ARXlfjUvLnPz",
        "colab_type": "code",
        "outputId": "6c46d76a-95e7-4c8b-9d32-638d80b5ca05",
        "colab": {
          "base_uri": "https://localhost:8080/",
          "height": 34
        }
      },
      "source": [
        "gamma.ppf(0.99, 2)"
      ],
      "execution_count": 0,
      "outputs": [
        {
          "output_type": "execute_result",
          "data": {
            "text/plain": [
              "6.638352067993811"
            ]
          },
          "metadata": {
            "tags": []
          },
          "execution_count": 10
        }
      ]
    },
    {
      "cell_type": "markdown",
      "metadata": {
        "id": "5w1is9IQMSZu",
        "colab_type": "text"
      },
      "source": [
        "PPF отвечает на вопрос, в какой точке находится 99% (или заданное число) значений."
      ]
    },
    {
      "cell_type": "code",
      "metadata": {
        "id": "9ibJjAbwL-LA",
        "colab_type": "code",
        "outputId": "f2ce5695-33d9-4062-fde5-eac4ec96a385",
        "colab": {
          "base_uri": "https://localhost:8080/",
          "height": 34
        }
      },
      "source": [
        "gamma.ppf(0.01, 2)"
      ],
      "execution_count": 0,
      "outputs": [
        {
          "output_type": "execute_result",
          "data": {
            "text/plain": [
              "0.14855474025326595"
            ]
          },
          "metadata": {
            "tags": []
          },
          "execution_count": 11
        }
      ]
    },
    {
      "cell_type": "markdown",
      "metadata": {
        "id": "02XYuY-Kjc1R",
        "colab_type": "text"
      },
      "source": [
        "# Бутстреп"
      ]
    },
    {
      "cell_type": "code",
      "metadata": {
        "id": "UiSYrybMj8-9",
        "colab_type": "code",
        "outputId": "63e37b1f-08d3-4fac-f87b-f1bf6a95fd09",
        "colab": {
          "base_uri": "https://localhost:8080/",
          "height": 282
        }
      },
      "source": [
        "sample = norm.rvs(loc=2, scale=2, size=100)\n",
        "plt.plot(sample, 'o', ls='none')"
      ],
      "execution_count": 0,
      "outputs": [
        {
          "output_type": "execute_result",
          "data": {
            "text/plain": [
              "[<matplotlib.lines.Line2D at 0x7f27909c4780>]"
            ]
          },
          "metadata": {
            "tags": []
          },
          "execution_count": 3
        },
        {
          "output_type": "display_data",
          "data": {
            "image/png": "[encoded data removed]",
            "text/plain": [
              "<Figure size 432x288 with 1 Axes>"
            ]
          },
          "metadata": {
            "tags": [],
            "needs_background": "light"
          }
        }
      ]
    },
    {
      "cell_type": "code",
      "metadata": {
        "id": "lYH4tVy0kosS",
        "colab_type": "code",
        "outputId": "801a4d21-a38c-4911-ffbc-75d9536eadfb",
        "colab": {
          "base_uri": "https://localhost:8080/",
          "height": 282
        }
      },
      "source": [
        "pseudo_samples = [np.random.choice(sample, size=len(sample)) for i in range(1000)]\n",
        "plt.plot(pseudo_samples[0], 'o', ls='none')"
      ],
      "execution_count": 0,
      "outputs": [
        {
          "output_type": "execute_result",
          "data": {
            "text/plain": [
              "[<matplotlib.lines.Line2D at 0x7f27904956d8>]"
            ]
          },
          "metadata": {
            "tags": []
          },
          "execution_count": 4
        },
        {
          "output_type": "display_data",
          "data": {
            "image/png": "[encoded data removed]",
            "text/plain": [
              "<Figure size 432x288 with 1 Axes>"
            ]
          },
          "metadata": {
            "tags": [],
            "needs_background": "light"
          }
        }
      ]
    },
    {
      "cell_type": "code",
      "metadata": {
        "id": "k5uvKjWElrQs",
        "colab_type": "code",
        "outputId": "7b695fba-81b3-4621-cfaa-1bead173d395",
        "colab": {
          "base_uri": "https://localhost:8080/",
          "height": 34
        }
      },
      "source": [
        "len(pseudo_samples)"
      ],
      "execution_count": 0,
      "outputs": [
        {
          "output_type": "execute_result",
          "data": {
            "text/plain": [
              "1000"
            ]
          },
          "metadata": {
            "tags": []
          },
          "execution_count": 5
        }
      ]
    },
    {
      "cell_type": "code",
      "metadata": {
        "id": "4-Z17I46lZFr",
        "colab_type": "code",
        "outputId": "dcb3119c-b7e4-4fd4-dd2f-a48c257c6c5c",
        "colab": {
          "base_uri": "https://localhost:8080/",
          "height": 34
        }
      },
      "source": [
        "pseudo_means = [np.mean(p_s) for p_s in pseudo_samples]\n",
        "len(pseudo_means)"
      ],
      "execution_count": 0,
      "outputs": [
        {
          "output_type": "execute_result",
          "data": {
            "text/plain": [
              "1000"
            ]
          },
          "metadata": {
            "tags": []
          },
          "execution_count": 6
        }
      ]
    },
    {
      "cell_type": "code",
      "metadata": {
        "id": "bz1L_B4glyrK",
        "colab_type": "code",
        "outputId": "e373be42-ef05-4e6e-e5b6-64a06bc7af54",
        "colab": {
          "base_uri": "https://localhost:8080/",
          "height": 34
        }
      },
      "source": [
        "np.percentile(pseudo_means, [0.025, 0.975])"
      ],
      "execution_count": 0,
      "outputs": [
        {
          "output_type": "execute_result",
          "data": {
            "text/plain": [
              "array([1.52349227, 1.72666422])"
            ]
          },
          "metadata": {
            "tags": []
          },
          "execution_count": 7
        }
      ]
    },
    {
      "cell_type": "markdown",
      "metadata": {
        "id": "3wPOe2zsOlv2",
        "colab_type": "text"
      },
      "source": [
        "Среднее довольно сильно отличается от выставленного нами - так сгенерились данные."
      ]
    },
    {
      "cell_type": "code",
      "metadata": {
        "id": "U2U8EeiGmexq",
        "colab_type": "code",
        "outputId": "a18bf723-8fe9-4e52-bd7d-89b3bec6c0c9",
        "colab": {
          "base_uri": "https://localhost:8080/",
          "height": 70
        }
      },
      "source": [
        "from statsmodels.stats.weightstats import _tconfint_generic, _zconfint_generic"
      ],
      "execution_count": 0,
      "outputs": [
        {
          "output_type": "stream",
          "text": [
            "/usr/local/lib/python3.6/dist-packages/statsmodels/tools/_testing.py:19: FutureWarning: pandas.util.testing is deprecated. Use the functions in the public API at pandas.testing instead.\n",
            "  import pandas.util.testing as tm\n"
          ],
          "name": "stderr"
        }
      ]
    },
    {
      "cell_type": "code",
      "metadata": {
        "id": "ZBQMuYAaOsi5",
        "colab_type": "code",
        "outputId": "ccc679fe-17db-4fc8-92bc-6fecb0313e9f",
        "colab": {
          "base_uri": "https://localhost:8080/",
          "height": 34
        }
      },
      "source": [
        "np.mean(sample)"
      ],
      "execution_count": 0,
      "outputs": [
        {
          "output_type": "execute_result",
          "data": {
            "text/plain": [
              "2.174107697105587"
            ]
          },
          "metadata": {
            "tags": []
          },
          "execution_count": 9
        }
      ]
    },
    {
      "cell_type": "code",
      "metadata": {
        "id": "q8L8TtIcoYKq",
        "colab_type": "code",
        "outputId": "845712c9-b4fb-44ca-9aa8-d8a36ef0d04e",
        "colab": {
          "base_uri": "https://localhost:8080/",
          "height": 34
        }
      },
      "source": [
        "np.std(sample)"
      ],
      "execution_count": 0,
      "outputs": [
        {
          "output_type": "execute_result",
          "data": {
            "text/plain": [
              "2.1154646782135718"
            ]
          },
          "metadata": {
            "tags": []
          },
          "execution_count": 12
        }
      ]
    },
    {
      "cell_type": "code",
      "metadata": {
        "id": "RrIntPuHMVH3",
        "colab_type": "code",
        "outputId": "feec2c3d-c4e1-41ba-aa3a-5d9483a3431f",
        "colab": {
          "base_uri": "https://localhost:8080/",
          "height": 34
        }
      },
      "source": [
        "_zconfint_generic(np.mean(sample), np.sqrt(4 / 1000), 0.05, 'two-sided')"
      ],
      "execution_count": 0,
      "outputs": [
        {
          "output_type": "execute_result",
          "data": {
            "text/plain": [
              "(2.0501486906446744, 2.2980667035664992)"
            ]
          },
          "metadata": {
            "tags": []
          },
          "execution_count": 10
        }
      ]
    },
    {
      "cell_type": "code",
      "metadata": {
        "id": "on5bX3Tzm3rk",
        "colab_type": "code",
        "outputId": "21546823-8e0b-4500-a07b-d94a01f364c3",
        "colab": {
          "base_uri": "https://localhost:8080/",
          "height": 34
        }
      },
      "source": [
        "_tconfint_generic(np.mean(sample), (np.std(sample) / np.sqrt(len(sample))), 999, 0.05, 'two-sided')"
      ],
      "execution_count": 0,
      "outputs": [
        {
          "output_type": "execute_result",
          "data": {
            "text/plain": [
              "(1.7589812923434047, 2.5892341018677687)"
            ]
          },
          "metadata": {
            "tags": []
          },
          "execution_count": 11
        }
      ]
    },
    {
      "cell_type": "markdown",
      "metadata": {
        "id": "_jgkmGjs3KR3",
        "colab_type": "text"
      },
      "source": [
        "Вот и наше среднее попало в интервал."
      ]
    },
    {
      "cell_type": "code",
      "metadata": {
        "id": "aXGbxwpHPSMa",
        "colab_type": "code",
        "colab": {}
      },
      "source": [
        ""
      ],
      "execution_count": 0,
      "outputs": []
    }
  ]
}