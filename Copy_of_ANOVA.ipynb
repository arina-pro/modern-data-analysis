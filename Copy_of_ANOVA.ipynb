{
  "nbformat": 4,
  "nbformat_minor": 0,
  "metadata": {
    "colab": {
      "name": "Copy of ANOVA.ipynb",
      "provenance": [],
      "collapsed_sections": []
    },
    "kernelspec": {
      "name": "ir",
      "display_name": "R"
    }
  },
  "cells": [
    {
      "cell_type": "markdown",
      "metadata": {
        "id": "4MEMQ1sDLH5C",
        "colab_type": "text"
      },
      "source": [
        "Листайте к заданию, делала на примере с генами."
      ]
    },
    {
      "cell_type": "code",
      "metadata": {
        "id": "nfv-9xGR5OJZ",
        "colab_type": "code",
        "colab": {}
      },
      "source": [
        "library(ggplot2)\n",
        "library(broom)\n",
        "library(tidyverse)"
      ],
      "execution_count": 18,
      "outputs": []
    },
    {
      "cell_type": "markdown",
      "metadata": {
        "id": "mGXg2Hqw5GKb",
        "colab_type": "text"
      },
      "source": [
        "# ANOVA\n",
        "Задача: сравнить несколько групп между собой. В таком случае применяется так называемый однофакторный дисперсионный анализ.  Та переменная, которая будет разделять наблюдения на группы (номинативная переменная с нескольким градациями) называется независимой переменной. А та количественная переменная,по степени выраженности которой мы сравниваем группы, называется зависимая переменная. \n",
        "\n",
        "При этом тестируется следующая гипотеза:\n",
        "\n",
        " - $H_0: \\mu_1=\\mu_2= ... =\\mu_k$\n",
        " - $H_1$: есть ХОТЯ БЫ одно различие \n",
        "\n",
        "\n",
        " Используется простая интуиция: если мы поделим на группы согласно анализируемому фактору, а потом выяснится, что изменчивость внутри групп сильно отличается от межгрупповой, то фактор играет важную роль\n",
        "\n",
        " Очень хорошее объяснение на степике (https://stepik.org/lesson/8083/step/1?unit=1362).\n",
        "И хорошая книжка по статистике (http://www.tf.uns.ac.rs/~omorr/radovan_omorjan_003_prII/r-examples/os3.pdf)"
      ]
    },
    {
      "cell_type": "markdown",
      "metadata": {
        "id": "QzKuUl4r8z3L",
        "colab_type": "text"
      },
      "source": [
        "## Пример\n"
      ]
    },
    {
      "cell_type": "code",
      "metadata": {
        "id": "Py3XjkP49ujg",
        "colab_type": "code",
        "colab": {}
      },
      "source": [
        "example <- matrix(c(3,1,2,5,3,4,7,6,5), ncol=3)\n",
        "colnames(example) <- c('one', 'two','three')\n",
        "example.table <- as.table(example)"
      ],
      "execution_count": 19,
      "outputs": []
    },
    {
      "cell_type": "code",
      "metadata": {
        "id": "xrH8xVCI96-A",
        "colab_type": "code",
        "colab": {
          "base_uri": "https://localhost:8080/",
          "height": 84
        },
        "outputId": "a9681108-f00e-4969-cffc-46728fa994df"
      },
      "source": [
        "example.table"
      ],
      "execution_count": 20,
      "outputs": [
        {
          "output_type": "display_data",
          "data": {
            "text/plain": [
              "  one two three\n",
              "A   3   5     7\n",
              "B   1   3     6\n",
              "C   2   4     5"
            ]
          },
          "metadata": {
            "tags": []
          }
        }
      ]
    },
    {
      "cell_type": "markdown",
      "metadata": {
        "id": "eMRDxPv0-tdx",
        "colab_type": "text"
      },
      "source": [
        "Что здесь можем посмотреть?\n",
        "\n",
        " - Ну тут есть какое-то общее среднее, можем его посчитать, получим представление о центральной тенденции для всех данных\n",
        " - Можем посчитать изменчивость в данных (сумму квадратов отклонения, без учета разделения на группы)\n",
        " -  Можем посчитать изменчивость внутри каждой группы\n",
        " - Можем посмотреть как сильно отличается среднее по каждой группе от общего среднего\n",
        "\n",
        "Общая изменчивость в данных может быть при таком подходе объясняться только изменчивостью внутригрупповой и межгрупповой. Если вдруг так оказалось, что внутригрупповая изменчивость сильно ниже, то это можно объяснять только тем, что средние существенно различны. Что такое теперь сильно ниже. Ну опять нужно какое-то распределение и какая-то статистика.\n",
        "\n",
        "\n",
        "Статистика тут будет следующая:\n",
        "\n",
        "$$F = \\frac{Sum.sq.Between/(m-1)}{Sum.sq.Within/(N-m)}$$\n",
        "\n",
        "А распределение у нее должно быть распределением Фишера, в том, случае если выполняется куча предположений"
      ]
    },
    {
      "cell_type": "code",
      "metadata": {
        "id": "hA16oP9p-sAN",
        "colab_type": "code",
        "colab": {
          "base_uri": "https://localhost:8080/",
          "height": 34
        },
        "outputId": "5e082854-cd8c-4093-9958-927b3210c12e"
      },
      "source": [
        "mean(example)"
      ],
      "execution_count": 21,
      "outputs": [
        {
          "output_type": "display_data",
          "data": {
            "text/plain": [
              "[1] 4"
            ],
            "text/latex": "4",
            "text/markdown": "4",
            "text/html": [
              "4"
            ]
          },
          "metadata": {
            "tags": []
          }
        }
      ]
    },
    {
      "cell_type": "code",
      "metadata": {
        "id": "Oc72UCAR_gt2",
        "colab_type": "code",
        "colab": {
          "base_uri": "https://localhost:8080/",
          "height": 34
        },
        "outputId": "9e69faea-3665-4e38-b3b4-a94cde665320"
      },
      "source": [
        "colMeans(example)"
      ],
      "execution_count": 22,
      "outputs": [
        {
          "output_type": "display_data",
          "data": {
            "text/plain": [
              "  one   two three \n",
              "    2     4     6 "
            ],
            "text/latex": "\\begin{description*}\n\\item[one] 2\n\\item[two] 4\n\\item[three] 6\n\\end{description*}\n",
            "text/markdown": "one\n:   2two\n:   4three\n:   6\n\n",
            "text/html": [
              "<style>\n",
              ".dl-inline {width: auto; margin:0; padding: 0}\n",
              ".dl-inline>dt, .dl-inline>dd {float: none; width: auto; display: inline-block}\n",
              ".dl-inline>dt::after {content: \":\\0020\"; padding-right: .5ex}\n",
              ".dl-inline>dt:not(:first-of-type) {padding-left: .5ex}\n",
              "</style><dl class=dl-inline><dt>one</dt><dd>2</dd><dt>two</dt><dd>4</dd><dt>three</dt><dd>6</dd></dl>\n"
            ]
          },
          "metadata": {
            "tags": []
          }
        }
      ]
    },
    {
      "cell_type": "markdown",
      "metadata": {
        "id": "mYi3CCWTDBlu",
        "colab_type": "text"
      },
      "source": [
        "## Задание.\n",
        "Самостоятельно прочитать (послушать про предположения) и научиться их проверять"
      ]
    },
    {
      "cell_type": "markdown",
      "metadata": {
        "id": "mYsuTZZ5KKYm",
        "colab_type": "text"
      },
      "source": [
        "### Пример\n"
      ]
    },
    {
      "cell_type": "code",
      "metadata": {
        "id": "dn1r8_Z-KJs7",
        "colab_type": "code",
        "colab": {
          "base_uri": "https://localhost:8080/",
          "height": 212
        },
        "outputId": "333b85f8-139d-4dd5-d95d-9a57ee018df3"
      },
      "source": [
        "filename = \"https://stepik.org/media/attachments/lesson/8083/genetherapy.csv\"\n",
        "genes = read.csv(file = filename)\n",
        "head(genes)"
      ],
      "execution_count": 23,
      "outputs": [
        {
          "output_type": "display_data",
          "data": {
            "text/plain": [
              "  expr Therapy\n",
              "1 100  A      \n",
              "2  96  A      \n",
              "3 101  A      \n",
              "4  95  A      \n",
              "5 103  A      \n",
              "6  99  A      "
            ],
            "text/latex": "A data.frame: 6 × 2\n\\begin{tabular}{r|ll}\n  & expr & Therapy\\\\\n  & <int> & <fct>\\\\\n\\hline\n\t1 & 100 & A\\\\\n\t2 &  96 & A\\\\\n\t3 & 101 & A\\\\\n\t4 &  95 & A\\\\\n\t5 & 103 & A\\\\\n\t6 &  99 & A\\\\\n\\end{tabular}\n",
            "text/markdown": "\nA data.frame: 6 × 2\n\n| <!--/--> | expr &lt;int&gt; | Therapy &lt;fct&gt; |\n|---|---|---|\n| 1 | 100 | A |\n| 2 |  96 | A |\n| 3 | 101 | A |\n| 4 |  95 | A |\n| 5 | 103 | A |\n| 6 |  99 | A |\n\n",
            "text/html": [
              "<table>\n",
              "<caption>A data.frame: 6 × 2</caption>\n",
              "<thead>\n",
              "\t<tr><th></th><th scope=col>expr</th><th scope=col>Therapy</th></tr>\n",
              "\t<tr><th></th><th scope=col>&lt;int&gt;</th><th scope=col>&lt;fct&gt;</th></tr>\n",
              "</thead>\n",
              "<tbody>\n",
              "\t<tr><th scope=row>1</th><td>100</td><td>A</td></tr>\n",
              "\t<tr><th scope=row>2</th><td> 96</td><td>A</td></tr>\n",
              "\t<tr><th scope=row>3</th><td>101</td><td>A</td></tr>\n",
              "\t<tr><th scope=row>4</th><td> 95</td><td>A</td></tr>\n",
              "\t<tr><th scope=row>5</th><td>103</td><td>A</td></tr>\n",
              "\t<tr><th scope=row>6</th><td> 99</td><td>A</td></tr>\n",
              "</tbody>\n",
              "</table>\n"
            ]
          },
          "metadata": {
            "tags": []
          }
        }
      ]
    },
    {
      "cell_type": "code",
      "metadata": {
        "id": "Jn1shMBTKYYD",
        "colab_type": "code",
        "colab": {
          "base_uri": "https://localhost:8080/",
          "height": 67
        },
        "outputId": "7b4d3e58-0a3e-41e3-a248-13b4cfe6faab"
      },
      "source": [
        "str(genes)"
      ],
      "execution_count": 24,
      "outputs": [
        {
          "output_type": "stream",
          "text": [
            "'data.frame':\t60 obs. of  2 variables:\n",
            " $ expr   : int  100 96 101 95 103 99 97 96 98 106 ...\n",
            " $ Therapy: Factor w/ 4 levels \"A\",\"B\",\"C\",\"D\": 1 1 1 1 1 1 1 1 1 1 ...\n"
          ],
          "name": "stdout"
        }
      ]
    },
    {
      "cell_type": "markdown",
      "metadata": {
        "id": "wGuiJtMLNLrM",
        "colab_type": "text"
      },
      "source": [
        "What are the different therapies?"
      ]
    },
    {
      "cell_type": "code",
      "metadata": {
        "id": "bYYcUuwkMc-Z",
        "colab_type": "code",
        "colab": {
          "base_uri": "https://localhost:8080/",
          "height": 34
        },
        "outputId": "e9e3546d-ab9d-4a80-9eb6-6f4b9ee798c4"
      },
      "source": [
        "# Show the levels\n",
        "levels(genes$Therapy)"
      ],
      "execution_count": 25,
      "outputs": [
        {
          "output_type": "display_data",
          "data": {
            "text/plain": [
              "[1] \"A\" \"B\" \"C\" \"D\""
            ],
            "text/latex": "\\begin{enumerate*}\n\\item 'A'\n\\item 'B'\n\\item 'C'\n\\item 'D'\n\\end{enumerate*}\n",
            "text/markdown": "1. 'A'\n2. 'B'\n3. 'C'\n4. 'D'\n\n\n",
            "text/html": [
              "<style>\n",
              ".list-inline {list-style: none; margin:0; padding: 0}\n",
              ".list-inline>li {display: inline-block}\n",
              ".list-inline>li:not(:last-child)::after {content: \"\\00b7\"; padding: 0 .5ex}\n",
              "</style>\n",
              "<ol class=list-inline><li>'A'</li><li>'B'</li><li>'C'</li><li>'D'</li></ol>\n"
            ]
          },
          "metadata": {
            "tags": []
          }
        }
      ]
    },
    {
      "cell_type": "markdown",
      "metadata": {
        "id": "1Lg7K7FiNYUo",
        "colab_type": "text"
      },
      "source": [
        "Looking at the expr by Therapy variable;"
      ]
    },
    {
      "cell_type": "code",
      "metadata": {
        "id": "1GKcOdpcKlyr",
        "colab_type": "code",
        "colab": {
          "base_uri": "https://localhost:8080/",
          "height": 437
        },
        "outputId": "ece77be2-6b98-4813-b93c-83b44ac425f4"
      },
      "source": [
        "#посмотрим на уровень экспрессии гена в зависимости от типа терапии\n",
        "ggplot(genes, aes(x = expr)) +\n",
        "  # Add a histogram layer\n",
        "  geom_histogram(binwidth = 0.5) +\n",
        "  # Facet by class\n",
        "  facet_wrap(~ Therapy)"
      ],
      "execution_count": 26,
      "outputs": [
        {
          "output_type": "display_data",
          "data": {
            "image/png": "[encoded data removed]",
            "text/plain": [
              "plot without title"
            ]
          },
          "metadata": {
            "tags": [],
            "image/png": {
              "width": 420,
              "height": 420
            },
            "text/plain": {
              "width": 420,
              "height": 420
            }
          }
        }
      ]
    },
    {
      "cell_type": "markdown",
      "metadata": {
        "id": "OmsTgzbENmVc",
        "colab_type": "text"
      },
      "source": [
        "Boxplot for the same data;"
      ]
    },
    {
      "cell_type": "code",
      "metadata": {
        "id": "F1c5LTTALNT7",
        "colab_type": "code",
        "colab": {
          "base_uri": "https://localhost:8080/",
          "height": 437
        },
        "outputId": "1aa7fd50-c8d5-43ef-81ed-6d589154ac47"
      },
      "source": [
        "#посмотрим на уровень экспрессии гена в зависимости от типа терапии\n",
        "ggplot(genes, aes(x = Therapy, y = expr)) +\n",
        "  # Add a histogram layer\n",
        "  geom_boxplot(outlier.colour=\"red\", outlier.shape=8,\n",
        "                outlier.size=4)"
      ],
      "execution_count": 27,
      "outputs": [
        {
          "output_type": "display_data",
          "data": {
            "image/png": "[encoded data removed]",
            "text/plain": [
              "plot without title"
            ]
          },
          "metadata": {
            "tags": [],
            "image/png": {
              "width": 420,
              "height": 420
            },
            "text/plain": {
              "width": 420,
              "height": 420
            }
          }
        }
      ]
    },
    {
      "cell_type": "markdown",
      "metadata": {
        "id": "mcg2BnHgNsMa",
        "colab_type": "text"
      },
      "source": [
        "The means and std's of expr by Therapy;"
      ]
    },
    {
      "cell_type": "code",
      "metadata": {
        "id": "0SQf-arUM_CR",
        "colab_type": "code",
        "colab": {
          "base_uri": "https://localhost:8080/",
          "height": 189
        },
        "outputId": "1a7768f7-c772-476c-e9dd-e6538d27cc8b"
      },
      "source": [
        "group_by(genes, Therapy) %>%\n",
        "  summarise(\n",
        "    count = n(),\n",
        "    mean = mean(expr, na.rm = TRUE),\n",
        "    sd = sd(expr, na.rm = TRUE)\n",
        "  )"
      ],
      "execution_count": 28,
      "outputs": [
        {
          "output_type": "stream",
          "text": [
            "`summarise()` ungrouping output (override with `.groups` argument)\n",
            "\n"
          ],
          "name": "stderr"
        },
        {
          "output_type": "display_data",
          "data": {
            "text/plain": [
              "  Therapy count mean     sd      \n",
              "1 A       15    99.73333 4.165619\n",
              "2 B       15    98.80000 5.894307\n",
              "3 C       15    94.40000 5.193402\n",
              "4 D       15    92.33333 3.735289"
            ],
            "text/latex": "A tibble: 4 × 4\n\\begin{tabular}{llll}\n Therapy & count & mean & sd\\\\\n <fct> & <int> & <dbl> & <dbl>\\\\\n\\hline\n\t A & 15 & 99.73333 & 4.165619\\\\\n\t B & 15 & 98.80000 & 5.894307\\\\\n\t C & 15 & 94.40000 & 5.193402\\\\\n\t D & 15 & 92.33333 & 3.735289\\\\\n\\end{tabular}\n",
            "text/markdown": "\nA tibble: 4 × 4\n\n| Therapy &lt;fct&gt; | count &lt;int&gt; | mean &lt;dbl&gt; | sd &lt;dbl&gt; |\n|---|---|---|---|\n| A | 15 | 99.73333 | 4.165619 |\n| B | 15 | 98.80000 | 5.894307 |\n| C | 15 | 94.40000 | 5.193402 |\n| D | 15 | 92.33333 | 3.735289 |\n\n",
            "text/html": [
              "<table>\n",
              "<caption>A tibble: 4 × 4</caption>\n",
              "<thead>\n",
              "\t<tr><th scope=col>Therapy</th><th scope=col>count</th><th scope=col>mean</th><th scope=col>sd</th></tr>\n",
              "\t<tr><th scope=col>&lt;fct&gt;</th><th scope=col>&lt;int&gt;</th><th scope=col>&lt;dbl&gt;</th><th scope=col>&lt;dbl&gt;</th></tr>\n",
              "</thead>\n",
              "<tbody>\n",
              "\t<tr><td>A</td><td>15</td><td>99.73333</td><td>4.165619</td></tr>\n",
              "\t<tr><td>B</td><td>15</td><td>98.80000</td><td>5.894307</td></tr>\n",
              "\t<tr><td>C</td><td>15</td><td>94.40000</td><td>5.193402</td></tr>\n",
              "\t<tr><td>D</td><td>15</td><td>92.33333</td><td>3.735289</td></tr>\n",
              "</tbody>\n",
              "</table>\n"
            ]
          },
          "metadata": {
            "tags": []
          }
        }
      ]
    },
    {
      "cell_type": "markdown",
      "metadata": {
        "id": "Mi9WXFoON7qg",
        "colab_type": "text"
      },
      "source": [
        "Now we run ANOVA"
      ]
    },
    {
      "cell_type": "code",
      "metadata": {
        "id": "b3mRnfL4LsEs",
        "colab_type": "code",
        "colab": {
          "base_uri": "https://localhost:8080/",
          "height": 115
        },
        "outputId": "b81e0858-2601-4ac5-dd5c-65535859f7b2"
      },
      "source": [
        "# Запускаем ANOVA \n",
        "aov_genes <- aov(expr ~ Therapy, data = genes)\n",
        "\n",
        "# Tidy the model\n",
        "tidy(aov_genes)"
      ],
      "execution_count": 29,
      "outputs": [
        {
          "output_type": "display_data",
          "data": {
            "text/plain": [
              "  term      df sumsq     meansq    statistic p.value     \n",
              "1 Therapy    3  560.7167 186.90556 8.037302  0.0001524972\n",
              "2 Residuals 56 1302.2667  23.25476       NA            NA"
            ],
            "text/latex": "A tibble: 2 × 6\n\\begin{tabular}{llllll}\n term & df & sumsq & meansq & statistic & p.value\\\\\n <chr> & <dbl> & <dbl> & <dbl> & <dbl> & <dbl>\\\\\n\\hline\n\t Therapy   &  3 &  560.7167 & 186.90556 & 8.037302 & 0.0001524972\\\\\n\t Residuals & 56 & 1302.2667 &  23.25476 &       NA &           NA\\\\\n\\end{tabular}\n",
            "text/markdown": "\nA tibble: 2 × 6\n\n| term &lt;chr&gt; | df &lt;dbl&gt; | sumsq &lt;dbl&gt; | meansq &lt;dbl&gt; | statistic &lt;dbl&gt; | p.value &lt;dbl&gt; |\n|---|---|---|---|---|---|\n| Therapy   |  3 |  560.7167 | 186.90556 | 8.037302 | 0.0001524972 |\n| Residuals | 56 | 1302.2667 |  23.25476 |       NA |           NA |\n\n",
            "text/html": [
              "<table>\n",
              "<caption>A tibble: 2 × 6</caption>\n",
              "<thead>\n",
              "\t<tr><th scope=col>term</th><th scope=col>df</th><th scope=col>sumsq</th><th scope=col>meansq</th><th scope=col>statistic</th><th scope=col>p.value</th></tr>\n",
              "\t<tr><th scope=col>&lt;chr&gt;</th><th scope=col>&lt;dbl&gt;</th><th scope=col>&lt;dbl&gt;</th><th scope=col>&lt;dbl&gt;</th><th scope=col>&lt;dbl&gt;</th><th scope=col>&lt;dbl&gt;</th></tr>\n",
              "</thead>\n",
              "<tbody>\n",
              "\t<tr><td>Therapy  </td><td> 3</td><td> 560.7167</td><td>186.90556</td><td>8.037302</td><td>0.0001524972</td></tr>\n",
              "\t<tr><td>Residuals</td><td>56</td><td>1302.2667</td><td> 23.25476</td><td>      NA</td><td>          NA</td></tr>\n",
              "</tbody>\n",
              "</table>\n"
            ]
          },
          "metadata": {
            "tags": []
          }
        }
      ]
    },
    {
      "cell_type": "code",
      "metadata": {
        "id": "y9UpuSZVOUzt",
        "colab_type": "code",
        "colab": {
          "base_uri": "https://localhost:8080/",
          "height": 101
        },
        "outputId": "c22dca1c-f0a5-4be3-8582-8d881b78bbdb"
      },
      "source": [
        "res.aov <- aov(expr ~ Therapy, data = genes)\n",
        "summary(res.aov)"
      ],
      "execution_count": 30,
      "outputs": [
        {
          "output_type": "display_data",
          "data": {
            "text/plain": [
              "            Df Sum Sq Mean Sq F value   Pr(>F)    \n",
              "Therapy      3  560.7  186.91   8.037 0.000152 ***\n",
              "Residuals   56 1302.3   23.25                     \n",
              "---\n",
              "Signif. codes:  0 ‘***’ 0.001 ‘**’ 0.01 ‘*’ 0.05 ‘.’ 0.1 ‘ ’ 1"
            ]
          },
          "metadata": {
            "tags": []
          }
        }
      ]
    },
    {
      "cell_type": "markdown",
      "metadata": {
        "id": "X8VXet-IPf8L",
        "colab_type": "text"
      },
      "source": [
        "The significance is quite high, since p-value is less than 0.001."
      ]
    },
    {
      "cell_type": "code",
      "metadata": {
        "id": "ZXDgU26CNK8f",
        "colab_type": "code",
        "colab": {
          "base_uri": "https://localhost:8080/",
          "height": 437
        },
        "outputId": "9b39fa05-02eb-46cf-d3e4-a75334edbf1c"
      },
      "source": [
        "#Проверка на нормальность\n",
        "plot(res.aov, 2)"
      ],
      "execution_count": 42,
      "outputs": [
        {
          "output_type": "display_data",
          "data": {
            "image/png": "[encoded data removed]",
            "text/plain": [
              "Plot with title “”"
            ]
          },
          "metadata": {
            "tags": [],
            "image/png": {
              "width": 420,
              "height": 420
            },
            "text/plain": {
              "width": 420,
              "height": 420
            }
          }
        }
      ]
    },
    {
      "cell_type": "code",
      "metadata": {
        "id": "R8rqJFcjNKIf",
        "colab_type": "code",
        "colab": {
          "base_uri": "https://localhost:8080/",
          "height": 189
        },
        "outputId": "296ba71a-4f4f-44d2-d94f-048c844ccfca"
      },
      "source": [
        "#Проверка на равенство дисперсий\n",
        "genes %>%\n",
        "  # Group by class\n",
        "  group_by(Therapy) %>%\n",
        "  # Calculate the std dev of wordsum as std_dev_wordsum\n",
        "  summarize(std_dev_expr = sd(expr))"
      ],
      "execution_count": 32,
      "outputs": [
        {
          "output_type": "stream",
          "text": [
            "`summarise()` ungrouping output (override with `.groups` argument)\n",
            "\n"
          ],
          "name": "stderr"
        },
        {
          "output_type": "display_data",
          "data": {
            "text/plain": [
              "  Therapy std_dev_expr\n",
              "1 A       4.165619    \n",
              "2 B       5.894307    \n",
              "3 C       5.193402    \n",
              "4 D       3.735289    "
            ],
            "text/latex": "A tibble: 4 × 2\n\\begin{tabular}{ll}\n Therapy & std\\_dev\\_expr\\\\\n <fct> & <dbl>\\\\\n\\hline\n\t A & 4.165619\\\\\n\t B & 5.894307\\\\\n\t C & 5.193402\\\\\n\t D & 3.735289\\\\\n\\end{tabular}\n",
            "text/markdown": "\nA tibble: 4 × 2\n\n| Therapy &lt;fct&gt; | std_dev_expr &lt;dbl&gt; |\n|---|---|\n| A | 4.165619 |\n| B | 5.894307 |\n| C | 5.193402 |\n| D | 3.735289 |\n\n",
            "text/html": [
              "<table>\n",
              "<caption>A tibble: 4 × 2</caption>\n",
              "<thead>\n",
              "\t<tr><th scope=col>Therapy</th><th scope=col>std_dev_expr</th></tr>\n",
              "\t<tr><th scope=col>&lt;fct&gt;</th><th scope=col>&lt;dbl&gt;</th></tr>\n",
              "</thead>\n",
              "<tbody>\n",
              "\t<tr><td>A</td><td>4.165619</td></tr>\n",
              "\t<tr><td>B</td><td>5.894307</td></tr>\n",
              "\t<tr><td>C</td><td>5.193402</td></tr>\n",
              "\t<tr><td>D</td><td>3.735289</td></tr>\n",
              "</tbody>\n",
              "</table>\n"
            ]
          },
          "metadata": {
            "tags": []
          }
        }
      ]
    },
    {
      "cell_type": "markdown",
      "metadata": {
        "id": "i74uxWkPPt2A",
        "colab_type": "text"
      },
      "source": [
        "Дисперсии достаточно различны?"
      ]
    },
    {
      "cell_type": "markdown",
      "metadata": {
        "id": "xoNA_KnCP8W6",
        "colab_type": "text"
      },
      "source": [
        "Теперь интересно посмотреть, а где всё-таки кроется группа(-ы) с отличающимися значениями."
      ]
    },
    {
      "cell_type": "code",
      "metadata": {
        "id": "pk78y6UJOvH8",
        "colab_type": "code",
        "colab": {
          "base_uri": "https://localhost:8080/",
          "height": 195
        },
        "outputId": "2e56238d-d512-4550-811b-26c8a68347ba"
      },
      "source": [
        "# Run a pairwise t-test on wordsum and class, without adjustment\n",
        "t_test_results <- pairwise.t.test(genes$expr, genes$Therapy, p.adjust.method = \"none\")\n",
        "\n",
        "# Tidy the result\n",
        "tidy(t_test_results)"
      ],
      "execution_count": 33,
      "outputs": [
        {
          "output_type": "display_data",
          "data": {
            "text/plain": [
              "  group1 group2 p.value     \n",
              "1 B      A      5.981773e-01\n",
              "2 C      A      3.709258e-03\n",
              "3 D      A      9.581505e-05\n",
              "4 C      B      1.542269e-02\n",
              "5 D      B      5.381693e-04\n",
              "6 D      C      2.454958e-01"
            ],
            "text/latex": "A tibble: 6 × 3\n\\begin{tabular}{lll}\n group1 & group2 & p.value\\\\\n <chr> & <chr> & <dbl>\\\\\n\\hline\n\t B & A & 5.981773e-01\\\\\n\t C & A & 3.709258e-03\\\\\n\t D & A & 9.581505e-05\\\\\n\t C & B & 1.542269e-02\\\\\n\t D & B & 5.381693e-04\\\\\n\t D & C & 2.454958e-01\\\\\n\\end{tabular}\n",
            "text/markdown": "\nA tibble: 6 × 3\n\n| group1 &lt;chr&gt; | group2 &lt;chr&gt; | p.value &lt;dbl&gt; |\n|---|---|---|\n| B | A | 5.981773e-01 |\n| C | A | 3.709258e-03 |\n| D | A | 9.581505e-05 |\n| C | B | 1.542269e-02 |\n| D | B | 5.381693e-04 |\n| D | C | 2.454958e-01 |\n\n",
            "text/html": [
              "<table>\n",
              "<caption>A tibble: 6 × 3</caption>\n",
              "<thead>\n",
              "\t<tr><th scope=col>group1</th><th scope=col>group2</th><th scope=col>p.value</th></tr>\n",
              "\t<tr><th scope=col>&lt;chr&gt;</th><th scope=col>&lt;chr&gt;</th><th scope=col>&lt;dbl&gt;</th></tr>\n",
              "</thead>\n",
              "<tbody>\n",
              "\t<tr><td>B</td><td>A</td><td>5.981773e-01</td></tr>\n",
              "\t<tr><td>C</td><td>A</td><td>3.709258e-03</td></tr>\n",
              "\t<tr><td>D</td><td>A</td><td>9.581505e-05</td></tr>\n",
              "\t<tr><td>C</td><td>B</td><td>1.542269e-02</td></tr>\n",
              "\t<tr><td>D</td><td>B</td><td>5.381693e-04</td></tr>\n",
              "\t<tr><td>D</td><td>C</td><td>2.454958e-01</td></tr>\n",
              "</tbody>\n",
              "</table>\n"
            ]
          },
          "metadata": {
            "tags": []
          }
        }
      ]
    },
    {
      "cell_type": "markdown",
      "metadata": {
        "id": "3kx3b5uNQSxp",
        "colab_type": "text"
      },
      "source": [
        "С поправкой Тьюки."
      ]
    },
    {
      "cell_type": "code",
      "metadata": {
        "id": "oKcBfrlAQOsz",
        "colab_type": "code",
        "colab": {
          "base_uri": "https://localhost:8080/",
          "height": 235
        },
        "outputId": "6c8ac0c2-c050-43dd-9330-17029f7ffbe6"
      },
      "source": [
        "TukeyHSD(res.aov)"
      ],
      "execution_count": 34,
      "outputs": [
        {
          "output_type": "display_data",
          "data": {
            "text/plain": [
              "  Tukey multiple comparisons of means\n",
              "    95% family-wise confidence level\n",
              "\n",
              "Fit: aov(formula = expr ~ Therapy, data = genes)\n",
              "\n",
              "$Therapy\n",
              "          diff        lwr        upr     p adj\n",
              "B-A -0.9333333  -5.595897  3.7292308 0.9514195\n",
              "C-A -5.3333333  -9.995897 -0.6707692 0.0188860\n",
              "D-A -7.4000000 -12.062564 -2.7374358 0.0005424\n",
              "C-B -4.4000000  -9.062564  0.2625642 0.0710413\n",
              "D-B -6.4666667 -11.129231 -1.8041025 0.0029443\n",
              "D-C -2.0666667  -6.729231  2.5958975 0.6457935\n"
            ]
          },
          "metadata": {
            "tags": []
          }
        }
      ]
    },
    {
      "cell_type": "markdown",
      "metadata": {
        "id": "ZHGMWSG2YSbn",
        "colab_type": "text"
      },
      "source": [
        "Видим, что между группами A-C, A-D, B-D среднее отличается. Вот и всё."
      ]
    },
    {
      "cell_type": "markdown",
      "metadata": {
        "id": "ebN5tYzDJvYM",
        "colab_type": "text"
      },
      "source": [
        "# Множественные сравнения\n",
        "\n",
        "Почему нельзя взять и попарно сравнить все группы между собой так, как мы только что это сделали?\n",
        "Давайте вспомним задачку из теории вероятности\n",
        "\n",
        "Посмотрите лекцию https://www.youtube.com/watch?v=7To5LPZ9mxc"
      ]
    },
    {
      "cell_type": "markdown",
      "metadata": {
        "id": "5fpLafO4a-uO",
        "colab_type": "text"
      },
      "source": [
        "Если мы кучу раз сравниваем, то с большей вероятностью подтвердим то, что хотим, а оно нам не надо, потому что есть риск совершить ошибку первого рода - найти то, чего на самом деле нет.\n",
        "\n",
        "Вот почему важно пользоваться поправками Бонферрони или Тьюки."
      ]
    },
    {
      "cell_type": "markdown",
      "metadata": {
        "id": "fa5iYPH1QYCl",
        "colab_type": "text"
      },
      "source": [
        "## Парадокс дней рождений\n",
        "\n",
        "В группе, состоящей из 23 или более человек, вероятность совпадения дней рождения (число и месяц) хотя бы у двух людей превышает 50 %. Например, если в классе 23 ученика или более, то более вероятно то, что у какой-то пары одноклассников дни рождения придутся на один день, чем то, что у каждого будет свой неповторимый день рождения.\n",
        "\n",
        "Для 57 и более человек вероятность такого совпадения превышает 99 %, хотя 100 % она достигает, согласно принципу Дирихле (здравому смыслу), только тогда, когда в группе не менее 367 человек (ровно на 1 больше, чем число дней в високосном году; с учётом високосных лет)."
      ]
    },
    {
      "cell_type": "markdown",
      "metadata": {
        "id": "88LyIxCxQyAm",
        "colab_type": "text"
      },
      "source": [
        "Здесь отличное объяснение с симуляцией в R\n",
        "https://stepik.org/lesson/8085/step/10?unit=1364"
      ]
    },
    {
      "cell_type": "markdown",
      "metadata": {
        "id": "cWFgMElfeaLJ",
        "colab_type": "text"
      },
      "source": [
        "С Бонферрони, жёсткая поправка"
      ]
    },
    {
      "cell_type": "code",
      "metadata": {
        "id": "uEhx6MH_PWf0",
        "colab_type": "code",
        "colab": {
          "base_uri": "https://localhost:8080/",
          "height": 195
        },
        "outputId": "1040a0e4-4633-456b-fbd1-bf5afdce4fea"
      },
      "source": [
        "# Run a pairwise t-test on wordsum and class, with adjustment\n",
        "t_test_results <- pairwise.t.test(genes$expr, genes$Therapy, p.adjust.method = \"bonferroni\")\n",
        "\n",
        "# Tidy the result\n",
        "tidy(t_test_results)"
      ],
      "execution_count": 35,
      "outputs": [
        {
          "output_type": "display_data",
          "data": {
            "text/plain": [
              "  group1 group2 p.value     \n",
              "1 B      A      1.0000000000\n",
              "2 C      A      0.0222555470\n",
              "3 D      A      0.0005748903\n",
              "4 C      B      0.0925361171\n",
              "5 D      B      0.0032290157\n",
              "6 D      C      1.0000000000"
            ],
            "text/latex": "A tibble: 6 × 3\n\\begin{tabular}{lll}\n group1 & group2 & p.value\\\\\n <chr> & <chr> & <dbl>\\\\\n\\hline\n\t B & A & 1.0000000000\\\\\n\t C & A & 0.0222555470\\\\\n\t D & A & 0.0005748903\\\\\n\t C & B & 0.0925361171\\\\\n\t D & B & 0.0032290157\\\\\n\t D & C & 1.0000000000\\\\\n\\end{tabular}\n",
            "text/markdown": "\nA tibble: 6 × 3\n\n| group1 &lt;chr&gt; | group2 &lt;chr&gt; | p.value &lt;dbl&gt; |\n|---|---|---|\n| B | A | 1.0000000000 |\n| C | A | 0.0222555470 |\n| D | A | 0.0005748903 |\n| C | B | 0.0925361171 |\n| D | B | 0.0032290157 |\n| D | C | 1.0000000000 |\n\n",
            "text/html": [
              "<table>\n",
              "<caption>A tibble: 6 × 3</caption>\n",
              "<thead>\n",
              "\t<tr><th scope=col>group1</th><th scope=col>group2</th><th scope=col>p.value</th></tr>\n",
              "\t<tr><th scope=col>&lt;chr&gt;</th><th scope=col>&lt;chr&gt;</th><th scope=col>&lt;dbl&gt;</th></tr>\n",
              "</thead>\n",
              "<tbody>\n",
              "\t<tr><td>B</td><td>A</td><td>1.0000000000</td></tr>\n",
              "\t<tr><td>C</td><td>A</td><td>0.0222555470</td></tr>\n",
              "\t<tr><td>D</td><td>A</td><td>0.0005748903</td></tr>\n",
              "\t<tr><td>C</td><td>B</td><td>0.0925361171</td></tr>\n",
              "\t<tr><td>D</td><td>B</td><td>0.0032290157</td></tr>\n",
              "\t<tr><td>D</td><td>C</td><td>1.0000000000</td></tr>\n",
              "</tbody>\n",
              "</table>\n"
            ]
          },
          "metadata": {
            "tags": []
          }
        }
      ]
    },
    {
      "cell_type": "markdown",
      "metadata": {
        "id": "eFOEMQvzecq6",
        "colab_type": "text"
      },
      "source": [
        "Без поправки"
      ]
    },
    {
      "cell_type": "code",
      "metadata": {
        "id": "jbQgMNeWPSmO",
        "colab_type": "code",
        "colab": {
          "base_uri": "https://localhost:8080/",
          "height": 195
        },
        "outputId": "f1a41b60-6e2f-414b-aecc-14924a5088e0"
      },
      "source": [
        "# Run a pairwise t-test on wordsum and class, without adjustment\n",
        "t_test_results <- pairwise.t.test(genes$expr, genes$Therapy, p.adjust.method = \"fdr\")\n",
        "\n",
        "# Tidy the result\n",
        "tidy(t_test_results)"
      ],
      "execution_count": 36,
      "outputs": [
        {
          "output_type": "display_data",
          "data": {
            "text/plain": [
              "  group1 group2 p.value     \n",
              "1 B      A      0.5981772561\n",
              "2 C      A      0.0074185157\n",
              "3 D      A      0.0005748903\n",
              "4 C      B      0.0231340293\n",
              "5 D      B      0.0016145078\n",
              "6 D      C      0.2945949347"
            ],
            "text/latex": "A tibble: 6 × 3\n\\begin{tabular}{lll}\n group1 & group2 & p.value\\\\\n <chr> & <chr> & <dbl>\\\\\n\\hline\n\t B & A & 0.5981772561\\\\\n\t C & A & 0.0074185157\\\\\n\t D & A & 0.0005748903\\\\\n\t C & B & 0.0231340293\\\\\n\t D & B & 0.0016145078\\\\\n\t D & C & 0.2945949347\\\\\n\\end{tabular}\n",
            "text/markdown": "\nA tibble: 6 × 3\n\n| group1 &lt;chr&gt; | group2 &lt;chr&gt; | p.value &lt;dbl&gt; |\n|---|---|---|\n| B | A | 0.5981772561 |\n| C | A | 0.0074185157 |\n| D | A | 0.0005748903 |\n| C | B | 0.0231340293 |\n| D | B | 0.0016145078 |\n| D | C | 0.2945949347 |\n\n",
            "text/html": [
              "<table>\n",
              "<caption>A tibble: 6 × 3</caption>\n",
              "<thead>\n",
              "\t<tr><th scope=col>group1</th><th scope=col>group2</th><th scope=col>p.value</th></tr>\n",
              "\t<tr><th scope=col>&lt;chr&gt;</th><th scope=col>&lt;chr&gt;</th><th scope=col>&lt;dbl&gt;</th></tr>\n",
              "</thead>\n",
              "<tbody>\n",
              "\t<tr><td>B</td><td>A</td><td>0.5981772561</td></tr>\n",
              "\t<tr><td>C</td><td>A</td><td>0.0074185157</td></tr>\n",
              "\t<tr><td>D</td><td>A</td><td>0.0005748903</td></tr>\n",
              "\t<tr><td>C</td><td>B</td><td>0.0231340293</td></tr>\n",
              "\t<tr><td>D</td><td>B</td><td>0.0016145078</td></tr>\n",
              "\t<tr><td>D</td><td>C</td><td>0.2945949347</td></tr>\n",
              "</tbody>\n",
              "</table>\n"
            ]
          },
          "metadata": {
            "tags": []
          }
        }
      ]
    },
    {
      "cell_type": "markdown",
      "metadata": {
        "id": "vyzj1YNtRRCI",
        "colab_type": "text"
      },
      "source": [
        "### Критерий Тьюки\n",
        "Tukey HSD (Tukey Honest Significant Differences, R function: TukeyHSD()) it calculates post hoc comparisons on each factor in the model"
      ]
    },
    {
      "cell_type": "code",
      "metadata": {
        "id": "D2DYk0ClRJ_m",
        "colab_type": "code",
        "colab": {
          "base_uri": "https://localhost:8080/",
          "height": 235
        },
        "outputId": "4d98c8e0-7435-4fa9-d2c5-55a0aa428256"
      },
      "source": [
        "TukeyHSD(aov_genes)"
      ],
      "execution_count": 37,
      "outputs": [
        {
          "output_type": "display_data",
          "data": {
            "text/plain": [
              "  Tukey multiple comparisons of means\n",
              "    95% family-wise confidence level\n",
              "\n",
              "Fit: aov(formula = expr ~ Therapy, data = genes)\n",
              "\n",
              "$Therapy\n",
              "          diff        lwr        upr     p adj\n",
              "B-A -0.9333333  -5.595897  3.7292308 0.9514195\n",
              "C-A -5.3333333  -9.995897 -0.6707692 0.0188860\n",
              "D-A -7.4000000 -12.062564 -2.7374358 0.0005424\n",
              "C-B -4.4000000  -9.062564  0.2625642 0.0710413\n",
              "D-B -6.4666667 -11.129231 -1.8041025 0.0029443\n",
              "D-C -2.0666667  -6.729231  2.5958975 0.6457935\n"
            ]
          },
          "metadata": {
            "tags": []
          }
        }
      ]
    },
    {
      "cell_type": "markdown",
      "metadata": {
        "id": "BbGUc1z5H03C",
        "colab_type": "text"
      },
      "source": [
        "### Задание \n",
        "Посмотрите различаются ли какие-то показатели по континентам "
      ]
    },
    {
      "cell_type": "code",
      "metadata": {
        "id": "_AkkZAKt7F3n",
        "colab_type": "code",
        "colab": {
          "base_uri": "https://localhost:8080/",
          "height": 195
        },
        "outputId": "bf5e306a-fab4-469f-ffff-00058547f12b"
      },
      "source": [
        "filename = \"https://raw.githubusercontent.com/bioinformatics-core-shared-training/intermediate-stats/master/globalBreastCancerRisk.csv\"\n",
        "cancer <- read.csv(file = filename)\n",
        "head(cancer)"
      ],
      "execution_count": 38,
      "outputs": [
        {
          "output_type": "display_data",
          "data": {
            "text/plain": [
              "  country     continent year lifeExp pop      gdpPercap \n",
              "1 Afghanistan Asia      2002 42.129  25268405   726.7341\n",
              "2 Albania     Europe    2002 75.651   3508512  4604.2117\n",
              "3 Algeria     Africa    2002 70.994  31287142  5288.0404\n",
              "4 Angola      Africa    2002 41.003  10866106  2773.2873\n",
              "5 Argentina   Americas  2002 74.340  38331121  8797.6407\n",
              "6 Australia   Oceania   2002 80.370  19546792 30687.7547\n",
              "  NewCasesOfBreastCancerIn2002 AlcoholComsumption BloodPressure BodyMassIndex\n",
              "1 26.8                          0.02              124.2085      20.65274     \n",
              "2 57.4                          6.68              129.0609      25.27082     \n",
              "3 23.5                          0.96              130.4024      25.69948     \n",
              "4 23.1                          5.40              129.9282      22.26093     \n",
              "5 73.9                         10.00              119.6538      26.70460     \n",
              "6 83.2                         10.02              120.5113      26.25957     \n",
              "  Cholestorol Smoking\n",
              "1 4.295170      NA   \n",
              "2 4.918646     4.0   \n",
              "3 4.848951     0.3   \n",
              "4 4.499115      NA   \n",
              "5 5.143871    25.4   \n",
              "6 5.326858    21.8   "
            ],
            "text/latex": "A data.frame: 6 × 12\n\\begin{tabular}{r|llllllllllll}\n  & country & continent & year & lifeExp & pop & gdpPercap & NewCasesOfBreastCancerIn2002 & AlcoholComsumption & BloodPressure & BodyMassIndex & Cholestorol & Smoking\\\\\n  & <fct> & <fct> & <int> & <dbl> & <int> & <dbl> & <dbl> & <dbl> & <dbl> & <dbl> & <dbl> & <dbl>\\\\\n\\hline\n\t1 & Afghanistan & Asia     & 2002 & 42.129 & 25268405 &   726.7341 & 26.8 &  0.02 & 124.2085 & 20.65274 & 4.295170 &   NA\\\\\n\t2 & Albania     & Europe   & 2002 & 75.651 &  3508512 &  4604.2117 & 57.4 &  6.68 & 129.0609 & 25.27082 & 4.918646 &  4.0\\\\\n\t3 & Algeria     & Africa   & 2002 & 70.994 & 31287142 &  5288.0404 & 23.5 &  0.96 & 130.4024 & 25.69948 & 4.848951 &  0.3\\\\\n\t4 & Angola      & Africa   & 2002 & 41.003 & 10866106 &  2773.2873 & 23.1 &  5.40 & 129.9282 & 22.26093 & 4.499115 &   NA\\\\\n\t5 & Argentina   & Americas & 2002 & 74.340 & 38331121 &  8797.6407 & 73.9 & 10.00 & 119.6538 & 26.70460 & 5.143871 & 25.4\\\\\n\t6 & Australia   & Oceania  & 2002 & 80.370 & 19546792 & 30687.7547 & 83.2 & 10.02 & 120.5113 & 26.25957 & 5.326858 & 21.8\\\\\n\\end{tabular}\n",
            "text/markdown": "\nA data.frame: 6 × 12\n\n| <!--/--> | country &lt;fct&gt; | continent &lt;fct&gt; | year &lt;int&gt; | lifeExp &lt;dbl&gt; | pop &lt;int&gt; | gdpPercap &lt;dbl&gt; | NewCasesOfBreastCancerIn2002 &lt;dbl&gt; | AlcoholComsumption &lt;dbl&gt; | BloodPressure &lt;dbl&gt; | BodyMassIndex &lt;dbl&gt; | Cholestorol &lt;dbl&gt; | Smoking &lt;dbl&gt; |\n|---|---|---|---|---|---|---|---|---|---|---|---|---|\n| 1 | Afghanistan | Asia     | 2002 | 42.129 | 25268405 |   726.7341 | 26.8 |  0.02 | 124.2085 | 20.65274 | 4.295170 |   NA |\n| 2 | Albania     | Europe   | 2002 | 75.651 |  3508512 |  4604.2117 | 57.4 |  6.68 | 129.0609 | 25.27082 | 4.918646 |  4.0 |\n| 3 | Algeria     | Africa   | 2002 | 70.994 | 31287142 |  5288.0404 | 23.5 |  0.96 | 130.4024 | 25.69948 | 4.848951 |  0.3 |\n| 4 | Angola      | Africa   | 2002 | 41.003 | 10866106 |  2773.2873 | 23.1 |  5.40 | 129.9282 | 22.26093 | 4.499115 |   NA |\n| 5 | Argentina   | Americas | 2002 | 74.340 | 38331121 |  8797.6407 | 73.9 | 10.00 | 119.6538 | 26.70460 | 5.143871 | 25.4 |\n| 6 | Australia   | Oceania  | 2002 | 80.370 | 19546792 | 30687.7547 | 83.2 | 10.02 | 120.5113 | 26.25957 | 5.326858 | 21.8 |\n\n",
            "text/html": [
              "<table>\n",
              "<caption>A data.frame: 6 × 12</caption>\n",
              "<thead>\n",
              "\t<tr><th></th><th scope=col>country</th><th scope=col>continent</th><th scope=col>year</th><th scope=col>lifeExp</th><th scope=col>pop</th><th scope=col>gdpPercap</th><th scope=col>NewCasesOfBreastCancerIn2002</th><th scope=col>AlcoholComsumption</th><th scope=col>BloodPressure</th><th scope=col>BodyMassIndex</th><th scope=col>Cholestorol</th><th scope=col>Smoking</th></tr>\n",
              "\t<tr><th></th><th scope=col>&lt;fct&gt;</th><th scope=col>&lt;fct&gt;</th><th scope=col>&lt;int&gt;</th><th scope=col>&lt;dbl&gt;</th><th scope=col>&lt;int&gt;</th><th scope=col>&lt;dbl&gt;</th><th scope=col>&lt;dbl&gt;</th><th scope=col>&lt;dbl&gt;</th><th scope=col>&lt;dbl&gt;</th><th scope=col>&lt;dbl&gt;</th><th scope=col>&lt;dbl&gt;</th><th scope=col>&lt;dbl&gt;</th></tr>\n",
              "</thead>\n",
              "<tbody>\n",
              "\t<tr><th scope=row>1</th><td>Afghanistan</td><td>Asia    </td><td>2002</td><td>42.129</td><td>25268405</td><td>  726.7341</td><td>26.8</td><td> 0.02</td><td>124.2085</td><td>20.65274</td><td>4.295170</td><td>  NA</td></tr>\n",
              "\t<tr><th scope=row>2</th><td>Albania    </td><td>Europe  </td><td>2002</td><td>75.651</td><td> 3508512</td><td> 4604.2117</td><td>57.4</td><td> 6.68</td><td>129.0609</td><td>25.27082</td><td>4.918646</td><td> 4.0</td></tr>\n",
              "\t<tr><th scope=row>3</th><td>Algeria    </td><td>Africa  </td><td>2002</td><td>70.994</td><td>31287142</td><td> 5288.0404</td><td>23.5</td><td> 0.96</td><td>130.4024</td><td>25.69948</td><td>4.848951</td><td> 0.3</td></tr>\n",
              "\t<tr><th scope=row>4</th><td>Angola     </td><td>Africa  </td><td>2002</td><td>41.003</td><td>10866106</td><td> 2773.2873</td><td>23.1</td><td> 5.40</td><td>129.9282</td><td>22.26093</td><td>4.499115</td><td>  NA</td></tr>\n",
              "\t<tr><th scope=row>5</th><td>Argentina  </td><td>Americas</td><td>2002</td><td>74.340</td><td>38331121</td><td> 8797.6407</td><td>73.9</td><td>10.00</td><td>119.6538</td><td>26.70460</td><td>5.143871</td><td>25.4</td></tr>\n",
              "\t<tr><th scope=row>6</th><td>Australia  </td><td>Oceania </td><td>2002</td><td>80.370</td><td>19546792</td><td>30687.7547</td><td>83.2</td><td>10.02</td><td>120.5113</td><td>26.25957</td><td>5.326858</td><td>21.8</td></tr>\n",
              "</tbody>\n",
              "</table>\n"
            ]
          },
          "metadata": {
            "tags": []
          }
        }
      ]
    },
    {
      "cell_type": "code",
      "metadata": {
        "id": "2p2DG0MW5hV6",
        "colab_type": "code",
        "colab": {
          "base_uri": "https://localhost:8080/",
          "height": 235
        },
        "outputId": "3fb47fec-9691-453e-a10f-23b1b4b8e3d8"
      },
      "source": [
        "str(cancer)"
      ],
      "execution_count": 39,
      "outputs": [
        {
          "output_type": "stream",
          "text": [
            "'data.frame':\t123 obs. of  12 variables:\n",
            " $ country                     : Factor w/ 123 levels \"Afghanistan\",..: 1 2 3 4 5 6 7 8 9 10 ...\n",
            " $ continent                   : Factor w/ 5 levels \"Africa\",\"Americas\",..: 3 4 1 1 2 5 4 3 3 4 ...\n",
            " $ year                        : int  2002 2002 2002 2002 2002 2002 2002 2002 2002 2002 ...\n",
            " $ lifeExp                     : num  42.1 75.7 71 41 74.3 ...\n",
            " $ pop                         : int  25268405 3508512 31287142 10866106 38331121 19546792 8148312 656397 135656790 10311970 ...\n",
            " $ gdpPercap                   : num  727 4604 5288 2773 8798 ...\n",
            " $ NewCasesOfBreastCancerIn2002: num  26.8 57.4 23.5 23.1 73.9 83.2 70.5 40.2 16.6 92 ...\n",
            " $ AlcoholComsumption          : num  0.02 6.68 0.96 5.4 10 ...\n",
            " $ BloodPressure               : num  124 129 130 130 120 ...\n",
            " $ BodyMassIndex               : num  20.7 25.3 25.7 22.3 26.7 ...\n",
            " $ Cholestorol                 : num  4.3 4.92 4.85 4.5 5.14 ...\n",
            " $ Smoking                     : num  NA 4 0.3 NA 25.4 21.8 40.1 2.9 3.8 24.1 ...\n"
          ],
          "name": "stdout"
        }
      ]
    },
    {
      "cell_type": "code",
      "metadata": {
        "id": "cW7lB7wqhXxb",
        "colab_type": "code",
        "colab": {
          "base_uri": "https://localhost:8080/",
          "height": 101
        },
        "outputId": "4acd8767-cb0e-4115-db78-abd35b288746"
      },
      "source": [
        "# Compute the analysis of variance\n",
        "res.aov <- aov(lifeExp ~ continent, data = cancer)\n",
        "# Summary of the analysis\n",
        "summary(res.aov)"
      ],
      "execution_count": 43,
      "outputs": [
        {
          "output_type": "display_data",
          "data": {
            "text/plain": [
              "             Df Sum Sq Mean Sq F value Pr(>F)    \n",
              "continent     4  12263    3066   56.78 <2e-16 ***\n",
              "Residuals   118   6371      54                   \n",
              "---\n",
              "Signif. codes:  0 ‘***’ 0.001 ‘**’ 0.01 ‘*’ 0.05 ‘.’ 0.1 ‘ ’ 1"
            ]
          },
          "metadata": {
            "tags": []
          }
        }
      ]
    },
    {
      "cell_type": "code",
      "metadata": {
        "id": "m1PbihIwkS4W",
        "colab_type": "code",
        "colab": {
          "base_uri": "https://localhost:8080/",
          "height": 101
        },
        "outputId": "c4af1f69-a33a-46fe-a879-639abbde6f1e"
      },
      "source": [
        "# Compute the analysis of variance\n",
        "res.aov <- aov(pop ~ continent, data = cancer)\n",
        "# Summary of the analysis\n",
        "summary(res.aov)"
      ],
      "execution_count": 45,
      "outputs": [
        {
          "output_type": "display_data",
          "data": {
            "text/plain": [
              "             Df    Sum Sq   Mean Sq F value Pr(>F)  \n",
              "continent     4 2.535e+17 6.338e+16   2.964 0.0225 *\n",
              "Residuals   118 2.523e+18 2.138e+16                 \n",
              "---\n",
              "Signif. codes:  0 ‘***’ 0.001 ‘**’ 0.01 ‘*’ 0.05 ‘.’ 0.1 ‘ ’ 1"
            ]
          },
          "metadata": {
            "tags": []
          }
        }
      ]
    },
    {
      "cell_type": "code",
      "metadata": {
        "id": "jfVzTLMhkfm8",
        "colab_type": "code",
        "colab": {
          "base_uri": "https://localhost:8080/",
          "height": 101
        },
        "outputId": "a7da7565-3caa-47c0-b233-0f467c386bce"
      },
      "source": [
        "# Compute the analysis of variance\n",
        "res.aov <- aov(gdpPercap ~ continent, data = cancer)\n",
        "# Summary of the analysis\n",
        "summary(res.aov)"
      ],
      "execution_count": 46,
      "outputs": [
        {
          "output_type": "display_data",
          "data": {
            "text/plain": [
              "             Df    Sum Sq   Mean Sq F value   Pr(>F)    \n",
              "continent     4 7.699e+09 1.925e+09   27.21 5.24e-16 ***\n",
              "Residuals   118 8.346e+09 7.073e+07                     \n",
              "---\n",
              "Signif. codes:  0 ‘***’ 0.001 ‘**’ 0.01 ‘*’ 0.05 ‘.’ 0.1 ‘ ’ 1"
            ]
          },
          "metadata": {
            "tags": []
          }
        }
      ]
    },
    {
      "cell_type": "code",
      "metadata": {
        "id": "epIAEywvkfxF",
        "colab_type": "code",
        "colab": {
          "base_uri": "https://localhost:8080/",
          "height": 101
        },
        "outputId": "c4cd1428-8384-4dd3-ddef-e84185326ac0"
      },
      "source": [
        "# Compute the analysis of variance\n",
        "res.aov <- aov(NewCasesOfBreastCancerIn2002 ~ continent, data = cancer)\n",
        "# Summary of the analysis\n",
        "summary(res.aov)"
      ],
      "execution_count": 47,
      "outputs": [
        {
          "output_type": "display_data",
          "data": {
            "text/plain": [
              "             Df Sum Sq Mean Sq F value Pr(>F)    \n",
              "continent     4  43587   10897   41.59 <2e-16 ***\n",
              "Residuals   118  30920     262                   \n",
              "---\n",
              "Signif. codes:  0 ‘***’ 0.001 ‘**’ 0.01 ‘*’ 0.05 ‘.’ 0.1 ‘ ’ 1"
            ]
          },
          "metadata": {
            "tags": []
          }
        }
      ]
    },
    {
      "cell_type": "code",
      "metadata": {
        "id": "4qeAB_8vkf74",
        "colab_type": "code",
        "colab": {
          "base_uri": "https://localhost:8080/",
          "height": 101
        },
        "outputId": "5012204a-b78a-4ab5-e225-49c9eb210ee4"
      },
      "source": [
        "# Compute the analysis of variance\n",
        "res.aov <- aov(AlcoholComsumption ~ continent, data = cancer)\n",
        "# Summary of the analysis\n",
        "summary(res.aov)"
      ],
      "execution_count": 48,
      "outputs": [
        {
          "output_type": "display_data",
          "data": {
            "text/plain": [
              "             Df Sum Sq Mean Sq F value Pr(>F)    \n",
              "continent     4   1367   341.8   39.63 <2e-16 ***\n",
              "Residuals   118   1018     8.6                   \n",
              "---\n",
              "Signif. codes:  0 ‘***’ 0.001 ‘**’ 0.01 ‘*’ 0.05 ‘.’ 0.1 ‘ ’ 1"
            ]
          },
          "metadata": {
            "tags": []
          }
        }
      ]
    },
    {
      "cell_type": "code",
      "metadata": {
        "id": "YwNrK4Zyk88i",
        "colab_type": "code",
        "colab": {
          "base_uri": "https://localhost:8080/",
          "height": 101
        },
        "outputId": "a2886625-9f96-4954-db25-7de4e8894455"
      },
      "source": [
        "# Compute the analysis of variance\n",
        "res.aov <- aov(BloodPressure ~ continent, data = cancer)\n",
        "# Summary of the analysis\n",
        "summary(res.aov)"
      ],
      "execution_count": 49,
      "outputs": [
        {
          "output_type": "display_data",
          "data": {
            "text/plain": [
              "             Df Sum Sq Mean Sq F value Pr(>F)    \n",
              "continent     4  935.4  233.84   33.08 <2e-16 ***\n",
              "Residuals   118  834.1    7.07                   \n",
              "---\n",
              "Signif. codes:  0 ‘***’ 0.001 ‘**’ 0.01 ‘*’ 0.05 ‘.’ 0.1 ‘ ’ 1"
            ]
          },
          "metadata": {
            "tags": []
          }
        }
      ]
    },
    {
      "cell_type": "code",
      "metadata": {
        "id": "cB496-jdk9JY",
        "colab_type": "code",
        "colab": {
          "base_uri": "https://localhost:8080/",
          "height": 101
        },
        "outputId": "c23051a5-46ef-44d8-eaad-5135f182daf5"
      },
      "source": [
        "# Compute the analysis of variance\n",
        "res.aov <- aov(BodyMassIndex ~ continent, data = cancer)\n",
        "# Summary of the analysis\n",
        "summary(res.aov)"
      ],
      "execution_count": 50,
      "outputs": [
        {
          "output_type": "display_data",
          "data": {
            "text/plain": [
              "             Df Sum Sq Mean Sq F value   Pr(>F)    \n",
              "continent     4  146.2   36.56   8.361 5.67e-06 ***\n",
              "Residuals   118  516.0    4.37                     \n",
              "---\n",
              "Signif. codes:  0 ‘***’ 0.001 ‘**’ 0.01 ‘*’ 0.05 ‘.’ 0.1 ‘ ’ 1"
            ]
          },
          "metadata": {
            "tags": []
          }
        }
      ]
    },
    {
      "cell_type": "code",
      "metadata": {
        "id": "veSGanGrk9ZM",
        "colab_type": "code",
        "colab": {
          "base_uri": "https://localhost:8080/",
          "height": 101
        },
        "outputId": "d5395f4d-8bfc-43d5-f6b4-8f285455de82"
      },
      "source": [
        "# Compute the analysis of variance\n",
        "res.aov <- aov(Cholestorol ~ continent, data = cancer)\n",
        "# Summary of the analysis\n",
        "summary(res.aov)"
      ],
      "execution_count": 51,
      "outputs": [
        {
          "output_type": "display_data",
          "data": {
            "text/plain": [
              "             Df Sum Sq Mean Sq F value Pr(>F)    \n",
              "continent     4 12.938   3.234   49.18 <2e-16 ***\n",
              "Residuals   118  7.761   0.066                   \n",
              "---\n",
              "Signif. codes:  0 ‘***’ 0.001 ‘**’ 0.01 ‘*’ 0.05 ‘.’ 0.1 ‘ ’ 1"
            ]
          },
          "metadata": {
            "tags": []
          }
        }
      ]
    },
    {
      "cell_type": "code",
      "metadata": {
        "id": "ueoPmWs0lRdm",
        "colab_type": "code",
        "colab": {
          "base_uri": "https://localhost:8080/",
          "height": 118
        },
        "outputId": "6d793afd-e89f-41c2-c77c-d1a86217c038"
      },
      "source": [
        "# Compute the analysis of variance\n",
        "res.aov <- aov(Smoking ~ continent, data = cancer)\n",
        "# Summary of the analysis\n",
        "summary(res.aov)"
      ],
      "execution_count": 52,
      "outputs": [
        {
          "output_type": "display_data",
          "data": {
            "text/plain": [
              "            Df Sum Sq Mean Sq F value Pr(>F)    \n",
              "continent    4   8982  2245.6   49.14 <2e-16 ***\n",
              "Residuals   88   4022    45.7                   \n",
              "---\n",
              "Signif. codes:  0 ‘***’ 0.001 ‘**’ 0.01 ‘*’ 0.05 ‘.’ 0.1 ‘ ’ 1\n",
              "30 observations deleted due to missingness"
            ]
          },
          "metadata": {
            "tags": []
          }
        }
      ]
    },
    {
      "cell_type": "markdown",
      "metadata": {
        "id": "7aI_Nw9elZYk",
        "colab_type": "text"
      },
      "source": [
        "Сравнив, получаем, что только для популяции значимость невысокая, а для остальных - высокая..."
      ]
    },
    {
      "cell_type": "markdown",
      "metadata": {
        "id": "-KaSo0Qqmatk",
        "colab_type": "text"
      },
      "source": [
        "Дальше ничего не стала менять."
      ]
    },
    {
      "cell_type": "markdown",
      "metadata": {
        "id": "xsWxwaBeLBQB",
        "colab_type": "text"
      },
      "source": [
        "## Немножко линейной регрессии"
      ]
    },
    {
      "cell_type": "code",
      "metadata": {
        "id": "HoMja0x05nIr",
        "colab_type": "code",
        "colab": {
          "base_uri": "https://localhost:8080/",
          "height": 336
        },
        "outputId": "e6fa257c-d3bb-4f40-97e6-2ce086b8e0af"
      },
      "source": [
        "install.packages(\"openintro\")\n",
        "library(openintro)"
      ],
      "execution_count": 53,
      "outputs": [
        {
          "output_type": "stream",
          "text": [
            "Installing package into ‘/usr/local/lib/R/site-library’\n",
            "(as ‘lib’ is unspecified)\n",
            "\n",
            "Please visit openintro.org for free statistics materials\n",
            "\n",
            "\n",
            "Attaching package: ‘openintro’\n",
            "\n",
            "\n",
            "The following object is masked from ‘package:ggplot2’:\n",
            "\n",
            "    diamonds\n",
            "\n",
            "\n",
            "The following objects are masked from ‘package:datasets’:\n",
            "\n",
            "    cars, trees\n",
            "\n",
            "\n"
          ],
          "name": "stderr"
        }
      ]
    },
    {
      "cell_type": "markdown",
      "metadata": {
        "id": "vPJSh39tNKYU",
        "colab_type": "text"
      },
      "source": [
        "## Порисуем графики"
      ]
    },
    {
      "cell_type": "code",
      "metadata": {
        "id": "agScczT6L4IF",
        "colab_type": "code",
        "colab": {}
      },
      "source": [
        "data(ncbirths)"
      ],
      "execution_count": 54,
      "outputs": []
    },
    {
      "cell_type": "code",
      "metadata": {
        "id": "EZTpwEt1MUsh",
        "colab_type": "code",
        "colab": {
          "base_uri": "https://localhost:8080/",
          "height": 470
        },
        "outputId": "e46fc1bc-7fc9-4bfe-91ac-9be178f49248"
      },
      "source": [
        "ggplot(data = ncbirths, aes(x = weeks, y = weight)) + \n",
        "  geom_point()"
      ],
      "execution_count": 55,
      "outputs": [
        {
          "output_type": "stream",
          "text": [
            "Warning message:\n",
            "“Removed 2 rows containing missing values (geom_point).”\n"
          ],
          "name": "stderr"
        },
        {
          "output_type": "display_data",
          "data": {
            "image/png": "[encoded data removed]",
            "text/plain": [
              "plot without title"
            ]
          },
          "metadata": {
            "tags": [],
            "image/png": {
              "width": 420,
              "height": 420
            },
            "text/plain": {
              "width": 420,
              "height": 420
            }
          }
        }
      ]
    },
    {
      "cell_type": "code",
      "metadata": {
        "id": "jL0mTYkvMal4",
        "colab_type": "code",
        "colab": {
          "base_uri": "https://localhost:8080/",
          "height": 437
        },
        "outputId": "e834a87d-cfb4-42ae-95e0-709ac81cef95"
      },
      "source": [
        "ggplot(data = ncbirths, \n",
        "       aes(x = cut(weeks, breaks = 5), y = weight)) + \n",
        "  geom_boxplot()"
      ],
      "execution_count": 56,
      "outputs": [
        {
          "output_type": "display_data",
          "data": {
            "image/png": "[encoded data removed]",
            "text/plain": [
              "plot without title"
            ]
          },
          "metadata": {
            "tags": [],
            "image/png": {
              "width": 420,
              "height": 420
            },
            "text/plain": {
              "width": 420,
              "height": 420
            }
          }
        }
      ]
    },
    {
      "cell_type": "code",
      "metadata": {
        "id": "j4l_ObQWMl_g",
        "colab_type": "code",
        "colab": {}
      },
      "source": [
        "data(mammals)"
      ],
      "execution_count": 57,
      "outputs": []
    },
    {
      "cell_type": "code",
      "metadata": {
        "id": "ygGarx06MzdD",
        "colab_type": "code",
        "colab": {
          "base_uri": "https://localhost:8080/",
          "height": 437
        },
        "outputId": "8a8b2ca4-cb71-48e1-f97b-eb05b6547ca8"
      },
      "source": [
        "# Mammals scatterplot\n",
        "ggplot(data = mammals, aes(x = BodyWt, y = BrainWt)) +\n",
        "  geom_point()"
      ],
      "execution_count": 58,
      "outputs": [
        {
          "output_type": "display_data",
          "data": {
            "image/png": "[encoded data removed]",
            "text/plain": [
              "plot without title"
            ]
          },
          "metadata": {
            "tags": [],
            "image/png": {
              "width": 420,
              "height": 420
            },
            "text/plain": {
              "width": 420,
              "height": 420
            }
          }
        }
      ]
    },
    {
      "cell_type": "code",
      "metadata": {
        "id": "1X2e_8rHM1uz",
        "colab_type": "code",
        "colab": {
          "base_uri": "https://localhost:8080/",
          "height": 437
        },
        "outputId": "fdfd07a6-84c2-4b7c-8939-fcbca7c087a3"
      },
      "source": [
        "# Scatterplot with coord_trans()\n",
        "ggplot(data = mammals, aes(x = BodyWt, y = BrainWt)) +\n",
        "  geom_point() + \n",
        "  coord_trans(x = \"log10\", y = \"log10\")"
      ],
      "execution_count": 59,
      "outputs": [
        {
          "output_type": "display_data",
          "data": {
            "image/png": "[encoded data removed]",
            "text/plain": [
              "plot without title"
            ]
          },
          "metadata": {
            "tags": [],
            "image/png": {
              "width": 420,
              "height": 420
            },
            "text/plain": {
              "width": 420,
              "height": 420
            }
          }
        }
      ]
    },
    {
      "cell_type": "markdown",
      "metadata": {
        "id": "WAosqe1gNNg8",
        "colab_type": "text"
      },
      "source": [
        "## Про корреляцию"
      ]
    },
    {
      "cell_type": "code",
      "metadata": {
        "id": "6G4iToTYM_2l",
        "colab_type": "code",
        "colab": {
          "base_uri": "https://localhost:8080/",
          "height": 207
        },
        "outputId": "8599b3b1-58b0-4ad8-fdc6-c76ddcfc8781"
      },
      "source": [
        "# Compute correlation\n",
        "ncbirths %>%\n",
        "  summarize(N = n(), r = cor(weight, mage))\n",
        "\n",
        "# Compute correlation for all non-missing pairs\n",
        "ncbirths %>%\n",
        "  summarize(N = n(), r = cor(weight, weeks, use = \"pairwise.complete.obs\"))"
      ],
      "execution_count": 60,
      "outputs": [
        {
          "output_type": "display_data",
          "data": {
            "text/plain": [
              "  N    r         \n",
              "1 1000 0.05506589"
            ],
            "text/latex": "A data.frame: 1 × 2\n\\begin{tabular}{ll}\n N & r\\\\\n <int> & <dbl>\\\\\n\\hline\n\t 1000 & 0.05506589\\\\\n\\end{tabular}\n",
            "text/markdown": "\nA data.frame: 1 × 2\n\n| N &lt;int&gt; | r &lt;dbl&gt; |\n|---|---|\n| 1000 | 0.05506589 |\n\n",
            "text/html": [
              "<table>\n",
              "<caption>A data.frame: 1 × 2</caption>\n",
              "<thead>\n",
              "\t<tr><th scope=col>N</th><th scope=col>r</th></tr>\n",
              "\t<tr><th scope=col>&lt;int&gt;</th><th scope=col>&lt;dbl&gt;</th></tr>\n",
              "</thead>\n",
              "<tbody>\n",
              "\t<tr><td>1000</td><td>0.05506589</td></tr>\n",
              "</tbody>\n",
              "</table>\n"
            ]
          },
          "metadata": {
            "tags": []
          }
        },
        {
          "output_type": "display_data",
          "data": {
            "text/plain": [
              "  N    r        \n",
              "1 1000 0.6701013"
            ],
            "text/latex": "A data.frame: 1 × 2\n\\begin{tabular}{ll}\n N & r\\\\\n <int> & <dbl>\\\\\n\\hline\n\t 1000 & 0.6701013\\\\\n\\end{tabular}\n",
            "text/markdown": "\nA data.frame: 1 × 2\n\n| N &lt;int&gt; | r &lt;dbl&gt; |\n|---|---|\n| 1000 | 0.6701013 |\n\n",
            "text/html": [
              "<table>\n",
              "<caption>A data.frame: 1 × 2</caption>\n",
              "<thead>\n",
              "\t<tr><th scope=col>N</th><th scope=col>r</th></tr>\n",
              "\t<tr><th scope=col>&lt;int&gt;</th><th scope=col>&lt;dbl&gt;</th></tr>\n",
              "</thead>\n",
              "<tbody>\n",
              "\t<tr><td>1000</td><td>0.6701013</td></tr>\n",
              "</tbody>\n",
              "</table>\n"
            ]
          },
          "metadata": {
            "tags": []
          }
        }
      ]
    },
    {
      "cell_type": "code",
      "metadata": {
        "id": "3pesDH1hNYE-",
        "colab_type": "code",
        "colab": {}
      },
      "source": [
        "data(anscombe)"
      ],
      "execution_count": 61,
      "outputs": []
    },
    {
      "cell_type": "code",
      "metadata": {
        "id": "qry2hW6lN2q8",
        "colab_type": "code",
        "colab": {
          "base_uri": "https://localhost:8080/",
          "height": 195
        },
        "outputId": "ef43ee40-2042-4621-bf35-8b211abe01f3"
      },
      "source": [
        "head(anscombe)"
      ],
      "execution_count": 62,
      "outputs": [
        {
          "output_type": "display_data",
          "data": {
            "text/plain": [
              "  x1 x2 x3 x4 y1   y2   y3    y4  \n",
              "1 10 10 10 8  8.04 9.14  7.46 6.58\n",
              "2  8  8  8 8  6.95 8.14  6.77 5.76\n",
              "3 13 13 13 8  7.58 8.74 12.74 7.71\n",
              "4  9  9  9 8  8.81 8.77  7.11 8.84\n",
              "5 11 11 11 8  8.33 9.26  7.81 8.47\n",
              "6 14 14 14 8  9.96 8.10  8.84 7.04"
            ],
            "text/latex": "A data.frame: 6 × 8\n\\begin{tabular}{r|llllllll}\n  & x1 & x2 & x3 & x4 & y1 & y2 & y3 & y4\\\\\n  & <dbl> & <dbl> & <dbl> & <dbl> & <dbl> & <dbl> & <dbl> & <dbl>\\\\\n\\hline\n\t1 & 10 & 10 & 10 & 8 & 8.04 & 9.14 &  7.46 & 6.58\\\\\n\t2 &  8 &  8 &  8 & 8 & 6.95 & 8.14 &  6.77 & 5.76\\\\\n\t3 & 13 & 13 & 13 & 8 & 7.58 & 8.74 & 12.74 & 7.71\\\\\n\t4 &  9 &  9 &  9 & 8 & 8.81 & 8.77 &  7.11 & 8.84\\\\\n\t5 & 11 & 11 & 11 & 8 & 8.33 & 9.26 &  7.81 & 8.47\\\\\n\t6 & 14 & 14 & 14 & 8 & 9.96 & 8.10 &  8.84 & 7.04\\\\\n\\end{tabular}\n",
            "text/markdown": "\nA data.frame: 6 × 8\n\n| <!--/--> | x1 &lt;dbl&gt; | x2 &lt;dbl&gt; | x3 &lt;dbl&gt; | x4 &lt;dbl&gt; | y1 &lt;dbl&gt; | y2 &lt;dbl&gt; | y3 &lt;dbl&gt; | y4 &lt;dbl&gt; |\n|---|---|---|---|---|---|---|---|---|\n| 1 | 10 | 10 | 10 | 8 | 8.04 | 9.14 |  7.46 | 6.58 |\n| 2 |  8 |  8 |  8 | 8 | 6.95 | 8.14 |  6.77 | 5.76 |\n| 3 | 13 | 13 | 13 | 8 | 7.58 | 8.74 | 12.74 | 7.71 |\n| 4 |  9 |  9 |  9 | 8 | 8.81 | 8.77 |  7.11 | 8.84 |\n| 5 | 11 | 11 | 11 | 8 | 8.33 | 9.26 |  7.81 | 8.47 |\n| 6 | 14 | 14 | 14 | 8 | 9.96 | 8.10 |  8.84 | 7.04 |\n\n",
            "text/html": [
              "<table>\n",
              "<caption>A data.frame: 6 × 8</caption>\n",
              "<thead>\n",
              "\t<tr><th></th><th scope=col>x1</th><th scope=col>x2</th><th scope=col>x3</th><th scope=col>x4</th><th scope=col>y1</th><th scope=col>y2</th><th scope=col>y3</th><th scope=col>y4</th></tr>\n",
              "\t<tr><th></th><th scope=col>&lt;dbl&gt;</th><th scope=col>&lt;dbl&gt;</th><th scope=col>&lt;dbl&gt;</th><th scope=col>&lt;dbl&gt;</th><th scope=col>&lt;dbl&gt;</th><th scope=col>&lt;dbl&gt;</th><th scope=col>&lt;dbl&gt;</th><th scope=col>&lt;dbl&gt;</th></tr>\n",
              "</thead>\n",
              "<tbody>\n",
              "\t<tr><th scope=row>1</th><td>10</td><td>10</td><td>10</td><td>8</td><td>8.04</td><td>9.14</td><td> 7.46</td><td>6.58</td></tr>\n",
              "\t<tr><th scope=row>2</th><td> 8</td><td> 8</td><td> 8</td><td>8</td><td>6.95</td><td>8.14</td><td> 6.77</td><td>5.76</td></tr>\n",
              "\t<tr><th scope=row>3</th><td>13</td><td>13</td><td>13</td><td>8</td><td>7.58</td><td>8.74</td><td>12.74</td><td>7.71</td></tr>\n",
              "\t<tr><th scope=row>4</th><td> 9</td><td> 9</td><td> 9</td><td>8</td><td>8.81</td><td>8.77</td><td> 7.11</td><td>8.84</td></tr>\n",
              "\t<tr><th scope=row>5</th><td>11</td><td>11</td><td>11</td><td>8</td><td>8.33</td><td>9.26</td><td> 7.81</td><td>8.47</td></tr>\n",
              "\t<tr><th scope=row>6</th><td>14</td><td>14</td><td>14</td><td>8</td><td>9.96</td><td>8.10</td><td> 8.84</td><td>7.04</td></tr>\n",
              "</tbody>\n",
              "</table>\n"
            ]
          },
          "metadata": {
            "tags": []
          }
        }
      ]
    },
    {
      "cell_type": "code",
      "metadata": {
        "id": "jETEo7oANosO",
        "colab_type": "code",
        "colab": {
          "base_uri": "https://localhost:8080/",
          "height": 437
        },
        "outputId": "3eb18225-2f2a-41cb-b15e-7fd7c1d71640"
      },
      "source": [
        "ggplot(data = anscombe, aes(x = x2, y = y2)) +\n",
        "  geom_point() "
      ],
      "execution_count": 63,
      "outputs": [
        {
          "output_type": "display_data",
          "data": {
            "image/png": "[encoded data removed]",
            "text/plain": [
              "plot without title"
            ]
          },
          "metadata": {
            "tags": [],
            "image/png": {
              "width": 420,
              "height": 420
            },
            "text/plain": {
              "width": 420,
              "height": 420
            }
          }
        }
      ]
    },
    {
      "cell_type": "code",
      "metadata": {
        "id": "82Q0iEzlNwGG",
        "colab_type": "code",
        "colab": {
          "base_uri": "https://localhost:8080/",
          "height": 538
        },
        "outputId": "00848991-6b88-4c4b-aba1-b5de7de0604a"
      },
      "source": [
        "ggplot(data = ncbirths, aes(x = weeks, y = weight)) + \n",
        "  geom_point()+geom_smooth(method = \"lm\")"
      ],
      "execution_count": 64,
      "outputs": [
        {
          "output_type": "stream",
          "text": [
            "`geom_smooth()` using formula 'y ~ x'\n",
            "\n",
            "Warning message:\n",
            "“Removed 2 rows containing non-finite values (stat_smooth).”\n",
            "Warning message:\n",
            "“Removed 2 rows containing missing values (geom_point).”\n"
          ],
          "name": "stderr"
        },
        {
          "output_type": "display_data",
          "data": {
            "image/png": "[encoded data removed]",
            "text/plain": [
              "plot without title"
            ]
          },
          "metadata": {
            "tags": [],
            "image/png": {
              "width": 420,
              "height": 420
            },
            "text/plain": {
              "width": 420,
              "height": 420
            }
          }
        }
      ]
    },
    {
      "cell_type": "code",
      "metadata": {
        "id": "0T6GXTXPRRdg",
        "colab_type": "code",
        "colab": {}
      },
      "source": [
        "ncbirths <- drop_na(ncbirths)"
      ],
      "execution_count": 65,
      "outputs": []
    },
    {
      "cell_type": "code",
      "metadata": {
        "id": "FhnaCD05PmrB",
        "colab_type": "code",
        "colab": {
          "base_uri": "https://localhost:8080/",
          "height": 470
        },
        "outputId": "53e479ae-992d-4f78-9088-32d91fc682b8"
      },
      "source": [
        "ggplot(data = ncbirths, aes(x = weeks, y = weight)) + \n",
        "  geom_point()+geom_smooth(method = \"lm\", se = FALSE)"
      ],
      "execution_count": 66,
      "outputs": [
        {
          "output_type": "stream",
          "text": [
            "`geom_smooth()` using formula 'y ~ x'\n",
            "\n"
          ],
          "name": "stderr"
        },
        {
          "output_type": "display_data",
          "data": {
            "image/png": "[encoded data removed]",
            "text/plain": [
              "plot without title"
            ]
          },
          "metadata": {
            "tags": [],
            "image/png": {
              "width": 420,
              "height": 420
            },
            "text/plain": {
              "width": 420,
              "height": 420
            }
          }
        }
      ]
    },
    {
      "cell_type": "code",
      "metadata": {
        "id": "IDMZdN5KQDHw",
        "colab_type": "code",
        "colab": {}
      },
      "source": [
        ""
      ],
      "execution_count": null,
      "outputs": []
    }
  ]
}