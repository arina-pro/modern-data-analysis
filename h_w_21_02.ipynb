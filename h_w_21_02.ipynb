{
  "nbformat": 4,
  "nbformat_minor": 0,
  "metadata": {
    "colab": {
      "name": "h/w_21_02.ipynb",
      "provenance": [],
      "collapsed_sections": [
        "cT6cLe0gGLCc"
      ]
    },
    "kernelspec": {
      "name": "python3",
      "display_name": "Python 3"
    }
  },
  "cells": [
    {
      "cell_type": "markdown",
      "metadata": {
        "id": "hL0HWnpMtluJ",
        "colab_type": "text"
      },
      "source": [
        "## Домашнее задание на 21 февраля 2020 по \"Современному анализу данных\""
      ]
    },
    {
      "cell_type": "code",
      "metadata": {
        "id": "N-i9ENVny9Gs",
        "colab_type": "code",
        "colab": {}
      },
      "source": [
        "%matplotlib inline\n",
        "import numpy as np\n",
        "import matplotlib.pyplot as plt\n",
        "plt.style.use('seaborn-white')\n",
        "size = 10000"
      ],
      "execution_count": 0,
      "outputs": []
    },
    {
      "cell_type": "markdown",
      "metadata": {
        "id": "ulhD2G5WTE-q",
        "colab_type": "text"
      },
      "source": [
        "! Не работает стиль построения графиков."
      ]
    },
    {
      "cell_type": "code",
      "metadata": {
        "id": "151YeUBq3ED6",
        "colab_type": "code",
        "colab": {}
      },
      "source": [
        "def ecdf(sample_list, lim=None):\n",
        "    '''Empirical cumulative distribution function'''\n",
        "    x = sorted(sample_list)\n",
        "    y = np.arange(1, len(sample_list) + 1)\n",
        "    plt.plot(x, y, marker='.', linestyle='none')\n",
        "    if lim != None:\n",
        "      plt.xlim(lim)\n",
        "    plt.grid(True)"
      ],
      "execution_count": 0,
      "outputs": []
    },
    {
      "cell_type": "markdown",
      "metadata": {
        "id": "WFFlyz9GuWI6",
        "colab_type": "text"
      },
      "source": [
        "# Нормальное распределение, или распределение Гаусса"
      ]
    },
    {
      "cell_type": "markdown",
      "metadata": {
        "id": "tZ9digIXuz1Y",
        "colab_type": "text"
      },
      "source": [
        "Моделирует различные характеристики:\n",
        "\n",
        "\n",
        "*   Размер, вес людей\n",
        "*   Время поедания бутерброда\n",
        "\n"
      ]
    },
    {
      "cell_type": "markdown",
      "metadata": {
        "id": "rjoErxqBwFC2",
        "colab_type": "text"
      },
      "source": [
        "Непрерывная случайная величина $x$, распределённая по нормальному закону, имеет функцию плотности вероятности\n",
        "\n",
        "> $p(x) = \\frac{1}{\\sqrt{ 2 \\pi \\sigma^2 }} e^{ - \\frac{ (x - \\mu)^2 } {2 \\sigma^2} }$\n",
        "\n",
        "и определяется параметрами\n",
        "\n",
        "1.   $\\mu$ - среднее, медиана и мода\n",
        "2.   $\\sigma$ - среднеквадратическое отклонение ($\\sigma ^{2}$ — дисперсия)."
      ]
    },
    {
      "cell_type": "code",
      "metadata": {
        "id": "bDZgeya74M1A",
        "colab_type": "code",
        "colab": {}
      },
      "source": [
        "mu, sigma = 0, 0.1\n",
        "normal_sample = np.random.normal(mu, sigma, size)"
      ],
      "execution_count": 0,
      "outputs": []
    },
    {
      "cell_type": "code",
      "metadata": {
        "id": "AS4pD1Zq5CVM",
        "colab_type": "code",
        "outputId": "3dc130ce-7a72-49ff-8fed-20c99c055301",
        "colab": {
          "base_uri": "https://localhost:8080/",
          "height": 34
        }
      },
      "source": [
        "abs(mu - np.mean(normal_sample))"
      ],
      "execution_count": 0,
      "outputs": [
        {
          "output_type": "execute_result",
          "data": {
            "text/plain": [
              "0.002250954043467028"
            ]
          },
          "metadata": {
            "tags": []
          },
          "execution_count": 8
        }
      ]
    },
    {
      "cell_type": "code",
      "metadata": {
        "id": "tY_hi9ojy8Zi",
        "colab_type": "code",
        "outputId": "99482dc7-c674-4ef5-8c91-74b78440d80a",
        "colab": {
          "base_uri": "https://localhost:8080/",
          "height": 34
        }
      },
      "source": [
        "abs(sigma - np.std(normal_sample, ddof=1))"
      ],
      "execution_count": 0,
      "outputs": [
        {
          "output_type": "execute_result",
          "data": {
            "text/plain": [
              "0.0001980828622551445"
            ]
          },
          "metadata": {
            "tags": []
          },
          "execution_count": 9
        }
      ]
    },
    {
      "cell_type": "markdown",
      "metadata": {
        "id": "O_4Mr3wv5cNm",
        "colab_type": "text"
      },
      "source": [
        "Действительно, параметры соответствуют среднему и стандартному отклонению."
      ]
    },
    {
      "cell_type": "code",
      "metadata": {
        "id": "_MMXRuWFtBBv",
        "colab_type": "code",
        "outputId": "69580a3e-bd5a-4fca-86b1-b57d3e99d53d",
        "colab": {
          "base_uri": "https://localhost:8080/",
          "height": 294
        }
      },
      "source": [
        "ecdf(normal_sample)\n",
        "plt.title(\"Кумулятивная ф-я нормального распределения\")"
      ],
      "execution_count": 0,
      "outputs": [
        {
          "output_type": "execute_result",
          "data": {
            "text/plain": [
              "Text(0.5, 1.0, 'Кумулятивная ф-я нормального распределения')"
            ]
          },
          "metadata": {
            "tags": []
          },
          "execution_count": 25
        },
        {
          "output_type": "display_data",
          "data": {
            "image/png": "[encoded data removed]",
            "text/plain": [
              "<Figure size 432x288 with 1 Axes>"
            ]
          },
          "metadata": {
            "tags": []
          }
        }
      ]
    },
    {
      "cell_type": "code",
      "metadata": {
        "id": "n89DhZ988MnV",
        "colab_type": "code",
        "outputId": "b5754933-2ee6-4799-dc3a-e2c202f2badf",
        "colab": {
          "base_uri": "https://localhost:8080/",
          "height": 294
        }
      },
      "source": [
        "plt.hist(x, bins=20)\n",
        "plt.title(\"Гистограмма нормального распределения\")"
      ],
      "execution_count": 0,
      "outputs": [
        {
          "output_type": "execute_result",
          "data": {
            "text/plain": [
              "Text(0.5, 1.0, 'Гистограмма нормального распределения')"
            ]
          },
          "metadata": {
            "tags": []
          },
          "execution_count": 71
        },
        {
          "output_type": "display_data",
          "data": {
            "image/png": "[encoded data removed]",
            "text/plain": [
              "<Figure size 432x288 with 1 Axes>"
            ]
          },
          "metadata": {
            "tags": []
          }
        }
      ]
    },
    {
      "cell_type": "markdown",
      "metadata": {
        "id": "cT6cLe0gGLCc",
        "colab_type": "text"
      },
      "source": [
        "# ! Не разобралась с тем, как задать случайную величину,\n",
        "корректируемую через $\\mu$ и $\\sigma$..."
      ]
    },
    {
      "cell_type": "code",
      "metadata": {
        "id": "wWcrvtRh_dol",
        "colab_type": "code",
        "colab": {}
      },
      "source": [
        "def gauss(mu, sigma, size):\n",
        "  gauss_sample = list()\n",
        "  for i in range(size):\n",
        "    x = np.random.random()\n",
        "    gauss_sample.append((1 / (np.sqrt(2 * np.pi * np.square(sigma)))) * np.power(np.e, (-(np.square(x - mu)) / (2 * np.square(sigma)))))\n",
        "  return gauss_sample"
      ],
      "execution_count": 0,
      "outputs": []
    },
    {
      "cell_type": "code",
      "metadata": {
        "id": "HUChgSjHDaB3",
        "colab_type": "code",
        "colab": {}
      },
      "source": [
        "gauss_sample = gauss(0.5, 0.75, size)"
      ],
      "execution_count": 0,
      "outputs": []
    },
    {
      "cell_type": "code",
      "metadata": {
        "id": "M6DsIbMxEWw4",
        "colab_type": "code",
        "outputId": "7d7dfcb4-117a-4ab3-9da5-737df90cd26b",
        "colab": {
          "base_uri": "https://localhost:8080/",
          "height": 34
        }
      },
      "source": [
        "np.mean(gauss_sample)"
      ],
      "execution_count": 0,
      "outputs": [
        {
          "output_type": "execute_result",
          "data": {
            "text/plain": [
              "0.4946971562703414"
            ]
          },
          "metadata": {
            "tags": []
          },
          "execution_count": 58
        }
      ]
    },
    {
      "cell_type": "markdown",
      "metadata": {
        "id": "OMTnBoNeIXS9",
        "colab_type": "text"
      },
      "source": [
        "# Распределение хи-квадрат"
      ]
    },
    {
      "cell_type": "markdown",
      "metadata": {
        "id": "oRNNSOQCRMON",
        "colab_type": "text"
      },
      "source": [
        "\\- это любая статистическая проверка гипотезы... Например, мы хотим узнать, согласуются ли данные при выборке с нашей гипотезой."
      ]
    },
    {
      "cell_type": "markdown",
      "metadata": {
        "id": "Yr5vrvpBO5tv",
        "colab_type": "text"
      },
      "source": [
        "Критерий хи-квадрат используется при анализе статистической значимости зависимости одного признака от другого (других): мы определённым образом считаем нужный критерий и сравниваем его с табличным критическим при нашей степени свободы. Если он больше, то эта взаимосвязь значима (вроде бы?). [Взято отсюда](http://medstatistic.ru/theory/hi_kvadrat.html)"
      ]
    },
    {
      "cell_type": "markdown",
      "metadata": {
        "id": "UoCg6E3eJcSw",
        "colab_type": "text"
      },
      "source": [
        "Функция плотности вероятности распределения хи-квадрат с $k$ степенями свободы:\n",
        "> $p(x) = \\frac{(1/2)^{k/2}}{\\Gamma(k/2)}\n",
        "                 x^{k/2 - 1} e^{-x/2}$,\n",
        "\n",
        "где $\\Gamma$ - это гамма-функция,\n",
        "\n",
        "\n",
        "> $\\Gamma(x) = \\int_0^{-\\infty} t^{x - 1} e^{-t} dt$."
      ]
    },
    {
      "cell_type": "markdown",
      "metadata": {
        "id": "7wx02BuwNDL-",
        "colab_type": "text"
      },
      "source": [
        "Степени свободы - это наши значимые параметры в данных, по которым они изменяются (столбцы в датасете)."
      ]
    },
    {
      "cell_type": "markdown",
      "metadata": {
        "id": "8Ln94eNvOOga",
        "colab_type": "text"
      },
      "source": [
        "Лучше построим графики с разными степенями свободы и посмотрим на них."
      ]
    },
    {
      "cell_type": "code",
      "metadata": {
        "id": "Nqr0CjFnKYdX",
        "colab_type": "code",
        "outputId": "21d59380-00cb-42dd-e99d-7e8b2c252c17",
        "colab": {
          "base_uri": "https://localhost:8080/",
          "height": 262
        }
      },
      "source": [
        "for k in np.arange(1, 6):\n",
        "  ecdf(np.random.chisquare(k, size), lim=(0, 10))"
      ],
      "execution_count": 0,
      "outputs": [
        {
          "output_type": "display_data",
          "data": {
            "image/png": "[encoded data removed]",
            "text/plain": [
              "<Figure size 432x288 with 1 Axes>"
            ]
          },
          "metadata": {
            "tags": []
          }
        }
      ]
    },
    {
      "cell_type": "markdown",
      "metadata": {
        "id": "gtPfWRY-OXEq",
        "colab_type": "text"
      },
      "source": [
        "Красиво!"
      ]
    },
    {
      "cell_type": "markdown",
      "metadata": {
        "id": "i1cPgefutkJs",
        "colab_type": "text"
      },
      "source": [
        "# Распределение Фишера"
      ]
    },
    {
      "cell_type": "markdown",
      "metadata": {
        "id": "KxIyC3B2tken",
        "colab_type": "text"
      },
      "source": [
        "Распределение Фишера определяется через отношение двух распределений хи квадрат и их степеней свободы:\n",
        "\n",
        "\n",
        "> $F = \\frac{Y_{1} / d_{1}} {Y_{2} / d_{2}}$,\n",
        "\n",
        "\n",
        "где $Y_{1}, Y_{2}$ - две независимые случайные величины, имеющие распределение $\\chi^2$."
      ]
    },
    {
      "cell_type": "code",
      "metadata": {
        "id": "R_HoRHmJARj1",
        "colab_type": "code",
        "outputId": "fbcf2fb6-300e-4e7f-cedc-29164e5bf83d",
        "colab": {
          "base_uri": "https://localhost:8080/",
          "height": 262
        }
      },
      "source": [
        "ecdf(np.random.f(1, 1, size=size), lim=(0, 5))\n",
        "ecdf(np.random.f(5, 2, size=size), lim=(0, 5))\n",
        "ecdf(np.random.f(100, 1, size=size), lim=(0, 5))\n",
        "ecdf(np.random.f(100, 100, size=size), lim=(0, 5))"
      ],
      "execution_count": 0,
      "outputs": [
        {
          "output_type": "display_data",
          "data": {
            "image/png": "[encoded data removed]",
            "text/plain": [
              "<Figure size 432x288 with 1 Axes>"
            ]
          },
          "metadata": {
            "tags": []
          }
        }
      ]
    },
    {
      "cell_type": "code",
      "metadata": {
        "id": "CyUeOG3QAV2M",
        "colab_type": "code",
        "colab": {}
      },
      "source": [
        "?np.random.f"
      ],
      "execution_count": 0,
      "outputs": []
    },
    {
      "cell_type": "markdown",
      "metadata": {
        "id": "q0l6hJitOX1l",
        "colab_type": "text"
      },
      "source": [
        "Используется в статистике при сравнении средних между группами."
      ]
    },
    {
      "cell_type": "code",
      "metadata": {
        "id": "A5nC71_POdAn",
        "colab_type": "code",
        "colab": {}
      },
      "source": [
        ""
      ],
      "execution_count": 0,
      "outputs": []
    }
  ]
}